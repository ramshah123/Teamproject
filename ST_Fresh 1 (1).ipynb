{
 "cells": [
  {
   "cell_type": "markdown",
   "id": "8afb03a1",
   "metadata": {},
   "source": [
    "## Transportation method from Ireland - CA1 Strategic Thinking - Team 6\n"
   ]
  },
  {
   "cell_type": "code",
   "execution_count": 1,
   "id": "1c42e4e6",
   "metadata": {},
   "outputs": [],
   "source": [
    "import numpy as np\n",
    "import matplotlib.pyplot as plt\n",
    "import pandas as pd\n",
    "import seaborn as sns\n",
    "%matplotlib inline \n",
    "sns.set(color_codes=True)"
   ]
  },
  {
   "cell_type": "code",
   "execution_count": 2,
   "id": "835448b4",
   "metadata": {},
   "outputs": [],
   "source": [
    "datauno = pd.read_csv('HTA14.20220403T120429.csv')"
   ]
  },
  {
   "cell_type": "code",
   "execution_count": 3,
   "id": "3f8f74db",
   "metadata": {},
   "outputs": [
    {
     "data": {
      "text/html": [
       "<div>\n",
       "<style scoped>\n",
       "    .dataframe tbody tr th:only-of-type {\n",
       "        vertical-align: middle;\n",
       "    }\n",
       "\n",
       "    .dataframe tbody tr th {\n",
       "        vertical-align: top;\n",
       "    }\n",
       "\n",
       "    .dataframe thead th {\n",
       "        text-align: right;\n",
       "    }\n",
       "</style>\n",
       "<table border=\"1\" class=\"dataframe\">\n",
       "  <thead>\n",
       "    <tr style=\"text-align: right;\">\n",
       "      <th></th>\n",
       "      <th>Statistic</th>\n",
       "      <th>Year</th>\n",
       "      <th>Country and Region Visited</th>\n",
       "      <th>UNIT</th>\n",
       "      <th>VALUE</th>\n",
       "    </tr>\n",
       "  </thead>\n",
       "  <tbody>\n",
       "    <tr>\n",
       "      <th>0</th>\n",
       "      <td>Number of Trips by Irish Residents on Outbound...</td>\n",
       "      <td>2010</td>\n",
       "      <td>Austria</td>\n",
       "      <td>Thousand</td>\n",
       "      <td>76</td>\n",
       "    </tr>\n",
       "    <tr>\n",
       "      <th>1</th>\n",
       "      <td>Number of Trips by Irish Residents on Outbound...</td>\n",
       "      <td>2010</td>\n",
       "      <td>Belgium</td>\n",
       "      <td>Thousand</td>\n",
       "      <td>65</td>\n",
       "    </tr>\n",
       "    <tr>\n",
       "      <th>2</th>\n",
       "      <td>Number of Trips by Irish Residents on Outbound...</td>\n",
       "      <td>2010</td>\n",
       "      <td>Germany</td>\n",
       "      <td>Thousand</td>\n",
       "      <td>219</td>\n",
       "    </tr>\n",
       "    <tr>\n",
       "      <th>3</th>\n",
       "      <td>Number of Trips by Irish Residents on Outbound...</td>\n",
       "      <td>2010</td>\n",
       "      <td>Spain</td>\n",
       "      <td>Thousand</td>\n",
       "      <td>1371</td>\n",
       "    </tr>\n",
       "    <tr>\n",
       "      <th>4</th>\n",
       "      <td>Number of Trips by Irish Residents on Outbound...</td>\n",
       "      <td>2010</td>\n",
       "      <td>France</td>\n",
       "      <td>Thousand</td>\n",
       "      <td>635</td>\n",
       "    </tr>\n",
       "  </tbody>\n",
       "</table>\n",
       "</div>"
      ],
      "text/plain": [
       "                                           Statistic  Year  \\\n",
       "0  Number of Trips by Irish Residents on Outbound...  2010   \n",
       "1  Number of Trips by Irish Residents on Outbound...  2010   \n",
       "2  Number of Trips by Irish Residents on Outbound...  2010   \n",
       "3  Number of Trips by Irish Residents on Outbound...  2010   \n",
       "4  Number of Trips by Irish Residents on Outbound...  2010   \n",
       "\n",
       "  Country and Region Visited      UNIT  VALUE  \n",
       "0                    Austria  Thousand     76  \n",
       "1                    Belgium  Thousand     65  \n",
       "2                    Germany  Thousand    219  \n",
       "3                      Spain  Thousand   1371  \n",
       "4                     France  Thousand    635  "
      ]
     },
     "execution_count": 3,
     "metadata": {},
     "output_type": "execute_result"
    }
   ],
   "source": [
    "datauno.head()"
   ]
  },
  {
   "cell_type": "code",
   "execution_count": 4,
   "id": "d7f6bddd",
   "metadata": {},
   "outputs": [
    {
     "name": "stdout",
     "output_type": "stream",
     "text": [
      "['Thousand']\n"
     ]
    }
   ],
   "source": [
    "#Check what values are in the columns to either encode or remove if irrelevant \n",
    "print(datauno['UNIT'].unique())"
   ]
  },
  {
   "cell_type": "markdown",
   "id": "4b30f8fa",
   "metadata": {},
   "source": [
    "Since the data from the 'VALUE' column is merely a reference to the measure we will drop it as further down we will standardise this references and hence it results irrelevant"
   ]
  },
  {
   "cell_type": "code",
   "execution_count": 5,
   "id": "764f0a12",
   "metadata": {},
   "outputs": [
    {
     "name": "stdout",
     "output_type": "stream",
     "text": [
      "0      Thousand\n",
      "1      Thousand\n",
      "2      Thousand\n",
      "3      Thousand\n",
      "4      Thousand\n",
      "         ...   \n",
      "125    Thousand\n",
      "126    Thousand\n",
      "127    Thousand\n",
      "128    Thousand\n",
      "129    Thousand\n",
      "Name: UNIT, Length: 130, dtype: object\n"
     ]
    }
   ],
   "source": [
    "a = datauno.pop('UNIT')\n",
    "print (a)"
   ]
  },
  {
   "cell_type": "code",
   "execution_count": 6,
   "id": "724a7691",
   "metadata": {},
   "outputs": [
    {
     "data": {
      "text/html": [
       "<div>\n",
       "<style scoped>\n",
       "    .dataframe tbody tr th:only-of-type {\n",
       "        vertical-align: middle;\n",
       "    }\n",
       "\n",
       "    .dataframe tbody tr th {\n",
       "        vertical-align: top;\n",
       "    }\n",
       "\n",
       "    .dataframe thead th {\n",
       "        text-align: right;\n",
       "    }\n",
       "</style>\n",
       "<table border=\"1\" class=\"dataframe\">\n",
       "  <thead>\n",
       "    <tr style=\"text-align: right;\">\n",
       "      <th></th>\n",
       "      <th>Statistic</th>\n",
       "      <th>Year</th>\n",
       "      <th>Country and Region Visited</th>\n",
       "      <th>VALUE</th>\n",
       "    </tr>\n",
       "  </thead>\n",
       "  <tbody>\n",
       "    <tr>\n",
       "      <th>0</th>\n",
       "      <td>Number of Trips by Irish Residents on Outbound...</td>\n",
       "      <td>2010</td>\n",
       "      <td>Austria</td>\n",
       "      <td>76</td>\n",
       "    </tr>\n",
       "    <tr>\n",
       "      <th>1</th>\n",
       "      <td>Number of Trips by Irish Residents on Outbound...</td>\n",
       "      <td>2010</td>\n",
       "      <td>Belgium</td>\n",
       "      <td>65</td>\n",
       "    </tr>\n",
       "    <tr>\n",
       "      <th>2</th>\n",
       "      <td>Number of Trips by Irish Residents on Outbound...</td>\n",
       "      <td>2010</td>\n",
       "      <td>Germany</td>\n",
       "      <td>219</td>\n",
       "    </tr>\n",
       "    <tr>\n",
       "      <th>3</th>\n",
       "      <td>Number of Trips by Irish Residents on Outbound...</td>\n",
       "      <td>2010</td>\n",
       "      <td>Spain</td>\n",
       "      <td>1371</td>\n",
       "    </tr>\n",
       "    <tr>\n",
       "      <th>4</th>\n",
       "      <td>Number of Trips by Irish Residents on Outbound...</td>\n",
       "      <td>2010</td>\n",
       "      <td>France</td>\n",
       "      <td>635</td>\n",
       "    </tr>\n",
       "  </tbody>\n",
       "</table>\n",
       "</div>"
      ],
      "text/plain": [
       "                                           Statistic  Year  \\\n",
       "0  Number of Trips by Irish Residents on Outbound...  2010   \n",
       "1  Number of Trips by Irish Residents on Outbound...  2010   \n",
       "2  Number of Trips by Irish Residents on Outbound...  2010   \n",
       "3  Number of Trips by Irish Residents on Outbound...  2010   \n",
       "4  Number of Trips by Irish Residents on Outbound...  2010   \n",
       "\n",
       "  Country and Region Visited  VALUE  \n",
       "0                    Austria     76  \n",
       "1                    Belgium     65  \n",
       "2                    Germany    219  \n",
       "3                      Spain   1371  \n",
       "4                     France    635  "
      ]
     },
     "execution_count": 6,
     "metadata": {},
     "output_type": "execute_result"
    }
   ],
   "source": [
    "datauno.head()"
   ]
  },
  {
   "cell_type": "markdown",
   "id": "31c96bcd",
   "metadata": {},
   "source": [
    "We are doing the same with 'Statistic' as it refers to the number of trips outbound, we will rename the value column and drop the referencial one as follows:"
   ]
  },
  {
   "cell_type": "code",
   "execution_count": 7,
   "id": "48cf1619",
   "metadata": {},
   "outputs": [
    {
     "name": "stdout",
     "output_type": "stream",
     "text": [
      "['Number of Trips by Irish Residents on Outbound Travel Travel']\n"
     ]
    }
   ],
   "source": [
    "print(datauno['Statistic'].unique())"
   ]
  },
  {
   "cell_type": "code",
   "execution_count": 8,
   "id": "515b9500",
   "metadata": {},
   "outputs": [],
   "source": [
    "datauno.rename(columns={\"VALUE\":\"total trips\"} ,inplace=True)"
   ]
  },
  {
   "cell_type": "code",
   "execution_count": 9,
   "id": "9e25b8ec",
   "metadata": {},
   "outputs": [
    {
     "data": {
      "text/html": [
       "<div>\n",
       "<style scoped>\n",
       "    .dataframe tbody tr th:only-of-type {\n",
       "        vertical-align: middle;\n",
       "    }\n",
       "\n",
       "    .dataframe tbody tr th {\n",
       "        vertical-align: top;\n",
       "    }\n",
       "\n",
       "    .dataframe thead th {\n",
       "        text-align: right;\n",
       "    }\n",
       "</style>\n",
       "<table border=\"1\" class=\"dataframe\">\n",
       "  <thead>\n",
       "    <tr style=\"text-align: right;\">\n",
       "      <th></th>\n",
       "      <th>Statistic</th>\n",
       "      <th>Year</th>\n",
       "      <th>Country and Region Visited</th>\n",
       "      <th>total trips</th>\n",
       "    </tr>\n",
       "  </thead>\n",
       "  <tbody>\n",
       "    <tr>\n",
       "      <th>0</th>\n",
       "      <td>Number of Trips by Irish Residents on Outbound...</td>\n",
       "      <td>2010</td>\n",
       "      <td>Austria</td>\n",
       "      <td>76</td>\n",
       "    </tr>\n",
       "    <tr>\n",
       "      <th>1</th>\n",
       "      <td>Number of Trips by Irish Residents on Outbound...</td>\n",
       "      <td>2010</td>\n",
       "      <td>Belgium</td>\n",
       "      <td>65</td>\n",
       "    </tr>\n",
       "    <tr>\n",
       "      <th>2</th>\n",
       "      <td>Number of Trips by Irish Residents on Outbound...</td>\n",
       "      <td>2010</td>\n",
       "      <td>Germany</td>\n",
       "      <td>219</td>\n",
       "    </tr>\n",
       "    <tr>\n",
       "      <th>3</th>\n",
       "      <td>Number of Trips by Irish Residents on Outbound...</td>\n",
       "      <td>2010</td>\n",
       "      <td>Spain</td>\n",
       "      <td>1371</td>\n",
       "    </tr>\n",
       "    <tr>\n",
       "      <th>4</th>\n",
       "      <td>Number of Trips by Irish Residents on Outbound...</td>\n",
       "      <td>2010</td>\n",
       "      <td>France</td>\n",
       "      <td>635</td>\n",
       "    </tr>\n",
       "  </tbody>\n",
       "</table>\n",
       "</div>"
      ],
      "text/plain": [
       "                                           Statistic  Year  \\\n",
       "0  Number of Trips by Irish Residents on Outbound...  2010   \n",
       "1  Number of Trips by Irish Residents on Outbound...  2010   \n",
       "2  Number of Trips by Irish Residents on Outbound...  2010   \n",
       "3  Number of Trips by Irish Residents on Outbound...  2010   \n",
       "4  Number of Trips by Irish Residents on Outbound...  2010   \n",
       "\n",
       "  Country and Region Visited  total trips  \n",
       "0                    Austria           76  \n",
       "1                    Belgium           65  \n",
       "2                    Germany          219  \n",
       "3                      Spain         1371  \n",
       "4                     France          635  "
      ]
     },
     "execution_count": 9,
     "metadata": {},
     "output_type": "execute_result"
    }
   ],
   "source": [
    "datauno.head()"
   ]
  },
  {
   "cell_type": "code",
   "execution_count": 10,
   "id": "6a3c31f9",
   "metadata": {},
   "outputs": [
    {
     "name": "stdout",
     "output_type": "stream",
     "text": [
      "0      Number of Trips by Irish Residents on Outbound...\n",
      "1      Number of Trips by Irish Residents on Outbound...\n",
      "2      Number of Trips by Irish Residents on Outbound...\n",
      "3      Number of Trips by Irish Residents on Outbound...\n",
      "4      Number of Trips by Irish Residents on Outbound...\n",
      "                             ...                        \n",
      "125    Number of Trips by Irish Residents on Outbound...\n",
      "126    Number of Trips by Irish Residents on Outbound...\n",
      "127    Number of Trips by Irish Residents on Outbound...\n",
      "128    Number of Trips by Irish Residents on Outbound...\n",
      "129    Number of Trips by Irish Residents on Outbound...\n",
      "Name: Statistic, Length: 130, dtype: object\n"
     ]
    }
   ],
   "source": [
    "b = datauno.pop('Statistic')\n",
    "print (b)"
   ]
  },
  {
   "cell_type": "markdown",
   "id": "366a54b5",
   "metadata": {},
   "source": [
    "Finally we have our first dataset organised and we can analyse the number of trips to the regions per year"
   ]
  },
  {
   "cell_type": "code",
   "execution_count": 11,
   "id": "19ad2f9b",
   "metadata": {},
   "outputs": [
    {
     "data": {
      "text/html": [
       "<div>\n",
       "<style scoped>\n",
       "    .dataframe tbody tr th:only-of-type {\n",
       "        vertical-align: middle;\n",
       "    }\n",
       "\n",
       "    .dataframe tbody tr th {\n",
       "        vertical-align: top;\n",
       "    }\n",
       "\n",
       "    .dataframe thead th {\n",
       "        text-align: right;\n",
       "    }\n",
       "</style>\n",
       "<table border=\"1\" class=\"dataframe\">\n",
       "  <thead>\n",
       "    <tr style=\"text-align: right;\">\n",
       "      <th></th>\n",
       "      <th>Year</th>\n",
       "      <th>Country and Region Visited</th>\n",
       "      <th>total trips</th>\n",
       "    </tr>\n",
       "  </thead>\n",
       "  <tbody>\n",
       "    <tr>\n",
       "      <th>0</th>\n",
       "      <td>2010</td>\n",
       "      <td>Austria</td>\n",
       "      <td>76</td>\n",
       "    </tr>\n",
       "    <tr>\n",
       "      <th>1</th>\n",
       "      <td>2010</td>\n",
       "      <td>Belgium</td>\n",
       "      <td>65</td>\n",
       "    </tr>\n",
       "    <tr>\n",
       "      <th>2</th>\n",
       "      <td>2010</td>\n",
       "      <td>Germany</td>\n",
       "      <td>219</td>\n",
       "    </tr>\n",
       "    <tr>\n",
       "      <th>3</th>\n",
       "      <td>2010</td>\n",
       "      <td>Spain</td>\n",
       "      <td>1371</td>\n",
       "    </tr>\n",
       "    <tr>\n",
       "      <th>4</th>\n",
       "      <td>2010</td>\n",
       "      <td>France</td>\n",
       "      <td>635</td>\n",
       "    </tr>\n",
       "  </tbody>\n",
       "</table>\n",
       "</div>"
      ],
      "text/plain": [
       "   Year Country and Region Visited  total trips\n",
       "0  2010                    Austria           76\n",
       "1  2010                    Belgium           65\n",
       "2  2010                    Germany          219\n",
       "3  2010                      Spain         1371\n",
       "4  2010                     France          635"
      ]
     },
     "execution_count": 11,
     "metadata": {},
     "output_type": "execute_result"
    }
   ],
   "source": [
    "datauno.head()"
   ]
  },
  {
   "cell_type": "code",
   "execution_count": 12,
   "id": "1890d336",
   "metadata": {},
   "outputs": [],
   "source": [
    "datauno.rename(columns={\"Country and Region Visited\":\"Region Visited\"} ,inplace=True)"
   ]
  },
  {
   "cell_type": "code",
   "execution_count": 13,
   "id": "941ee69f",
   "metadata": {},
   "outputs": [
    {
     "data": {
      "text/html": [
       "<div>\n",
       "<style scoped>\n",
       "    .dataframe tbody tr th:only-of-type {\n",
       "        vertical-align: middle;\n",
       "    }\n",
       "\n",
       "    .dataframe tbody tr th {\n",
       "        vertical-align: top;\n",
       "    }\n",
       "\n",
       "    .dataframe thead th {\n",
       "        text-align: right;\n",
       "    }\n",
       "</style>\n",
       "<table border=\"1\" class=\"dataframe\">\n",
       "  <thead>\n",
       "    <tr style=\"text-align: right;\">\n",
       "      <th></th>\n",
       "      <th>Year</th>\n",
       "      <th>Region Visited</th>\n",
       "      <th>total trips</th>\n",
       "    </tr>\n",
       "  </thead>\n",
       "  <tbody>\n",
       "    <tr>\n",
       "      <th>0</th>\n",
       "      <td>2010</td>\n",
       "      <td>Austria</td>\n",
       "      <td>76</td>\n",
       "    </tr>\n",
       "    <tr>\n",
       "      <th>1</th>\n",
       "      <td>2010</td>\n",
       "      <td>Belgium</td>\n",
       "      <td>65</td>\n",
       "    </tr>\n",
       "    <tr>\n",
       "      <th>2</th>\n",
       "      <td>2010</td>\n",
       "      <td>Germany</td>\n",
       "      <td>219</td>\n",
       "    </tr>\n",
       "    <tr>\n",
       "      <th>3</th>\n",
       "      <td>2010</td>\n",
       "      <td>Spain</td>\n",
       "      <td>1371</td>\n",
       "    </tr>\n",
       "    <tr>\n",
       "      <th>4</th>\n",
       "      <td>2010</td>\n",
       "      <td>France</td>\n",
       "      <td>635</td>\n",
       "    </tr>\n",
       "  </tbody>\n",
       "</table>\n",
       "</div>"
      ],
      "text/plain": [
       "   Year Region Visited  total trips\n",
       "0  2010        Austria           76\n",
       "1  2010        Belgium           65\n",
       "2  2010        Germany          219\n",
       "3  2010          Spain         1371\n",
       "4  2010         France          635"
      ]
     },
     "execution_count": 13,
     "metadata": {},
     "output_type": "execute_result"
    }
   ],
   "source": [
    "datauno.head()"
   ]
  },
  {
   "cell_type": "code",
   "execution_count": 14,
   "id": "82cfcd90",
   "metadata": {},
   "outputs": [
    {
     "data": {
      "text/plain": [
       "122    3059\n",
       "109    2728\n",
       "96     2597\n",
       "83     2463\n",
       "44     2407\n",
       "57     2355\n",
       "5      2343\n",
       "18     2304\n",
       "127    2304\n",
       "70     2269\n",
       "Name: total trips, dtype: int64"
      ]
     },
     "execution_count": 14,
     "metadata": {},
     "output_type": "execute_result"
    }
   ],
   "source": [
    "datauno['total trips'].nlargest(n=10)"
   ]
  },
  {
   "cell_type": "code",
   "execution_count": 15,
   "id": "6f944a75",
   "metadata": {},
   "outputs": [],
   "source": [
    "datauno = datauno.nlargest(n=100, columns=['total trips'])"
   ]
  },
  {
   "cell_type": "code",
   "execution_count": 16,
   "id": "0b20ddcc",
   "metadata": {},
   "outputs": [
    {
     "data": {
      "text/html": [
       "<div>\n",
       "<style scoped>\n",
       "    .dataframe tbody tr th:only-of-type {\n",
       "        vertical-align: middle;\n",
       "    }\n",
       "\n",
       "    .dataframe tbody tr th {\n",
       "        vertical-align: top;\n",
       "    }\n",
       "\n",
       "    .dataframe thead th {\n",
       "        text-align: right;\n",
       "    }\n",
       "</style>\n",
       "<table border=\"1\" class=\"dataframe\">\n",
       "  <thead>\n",
       "    <tr style=\"text-align: right;\">\n",
       "      <th></th>\n",
       "      <th>Year</th>\n",
       "      <th>Region Visited</th>\n",
       "      <th>total trips</th>\n",
       "    </tr>\n",
       "  </thead>\n",
       "  <tbody>\n",
       "    <tr>\n",
       "      <th>122</th>\n",
       "      <td>2019</td>\n",
       "      <td>United Kingdom (includes Great Britain &amp; North...</td>\n",
       "      <td>3059</td>\n",
       "    </tr>\n",
       "    <tr>\n",
       "      <th>109</th>\n",
       "      <td>2018</td>\n",
       "      <td>United Kingdom (includes Great Britain &amp; North...</td>\n",
       "      <td>2728</td>\n",
       "    </tr>\n",
       "    <tr>\n",
       "      <th>96</th>\n",
       "      <td>2017</td>\n",
       "      <td>United Kingdom (includes Great Britain &amp; North...</td>\n",
       "      <td>2597</td>\n",
       "    </tr>\n",
       "    <tr>\n",
       "      <th>83</th>\n",
       "      <td>2016</td>\n",
       "      <td>United Kingdom (includes Great Britain &amp; North...</td>\n",
       "      <td>2463</td>\n",
       "    </tr>\n",
       "    <tr>\n",
       "      <th>44</th>\n",
       "      <td>2013</td>\n",
       "      <td>United Kingdom (includes Great Britain &amp; North...</td>\n",
       "      <td>2407</td>\n",
       "    </tr>\n",
       "  </tbody>\n",
       "</table>\n",
       "</div>"
      ],
      "text/plain": [
       "     Year                                     Region Visited  total trips\n",
       "122  2019  United Kingdom (includes Great Britain & North...         3059\n",
       "109  2018  United Kingdom (includes Great Britain & North...         2728\n",
       "96   2017  United Kingdom (includes Great Britain & North...         2597\n",
       "83   2016  United Kingdom (includes Great Britain & North...         2463\n",
       "44   2013  United Kingdom (includes Great Britain & North...         2407"
      ]
     },
     "execution_count": 16,
     "metadata": {},
     "output_type": "execute_result"
    }
   ],
   "source": [
    "datauno.head()"
   ]
  },
  {
   "cell_type": "code",
   "execution_count": 17,
   "id": "5400cf44",
   "metadata": {},
   "outputs": [
    {
     "data": {
      "text/plain": [
       "<AxesSubplot:xlabel='count', ylabel='Region Visited'>"
      ]
     },
     "execution_count": 17,
     "metadata": {},
     "output_type": "execute_result"
    },
    {
     "data": {
      "image/png": "[encoded data removed]",
      "text/plain": [
       "<Figure size 432x288 with 1 Axes>"
      ]
     },
     "metadata": {},
     "output_type": "display_data"
    }
   ],
   "source": [
    "sns.countplot(y='Region Visited', data=datauno.iloc[0:100])  "
   ]
  },
  {
   "cell_type": "code",
   "execution_count": 18,
   "id": "f12acbf5",
   "metadata": {},
   "outputs": [],
   "source": [
    "datauno.drop(datauno.index[(datauno[\"Region Visited\"] == 'Great Britain')],axis=0,inplace=True)"
   ]
  },
  {
   "cell_type": "code",
   "execution_count": 19,
   "id": "fc0aeda8",
   "metadata": {},
   "outputs": [],
   "source": [
    "datauno.drop(datauno.index[(datauno[\"Region Visited\"] == 'Northern Ireland')],axis=0,inplace=True)"
   ]
  },
  {
   "cell_type": "code",
   "execution_count": 20,
   "id": "87604962",
   "metadata": {},
   "outputs": [
    {
     "data": {
      "text/plain": [
       "<AxesSubplot:xlabel='count', ylabel='Region Visited'>"
      ]
     },
     "execution_count": 20,
     "metadata": {},
     "output_type": "execute_result"
    },
    {
     "data": {
      "image/png": "[encoded data removed]",
      "text/plain": [
       "<Figure size 432x288 with 1 Axes>"
      ]
     },
     "metadata": {},
     "output_type": "display_data"
    }
   ],
   "source": [
    "sns.countplot(y='Region Visited', data=datauno.iloc[0:100])  "
   ]
  },
  {
   "cell_type": "code",
   "execution_count": 21,
   "id": "922032f8",
   "metadata": {},
   "outputs": [
    {
     "data": {
      "text/plain": [
       "(80, 3)"
      ]
     },
     "execution_count": 21,
     "metadata": {},
     "output_type": "execute_result"
    }
   ],
   "source": [
    "datauno.shape"
   ]
  },
  {
   "cell_type": "code",
   "execution_count": 22,
   "id": "84cc467c",
   "metadata": {},
   "outputs": [
    {
     "name": "stderr",
     "output_type": "stream",
     "text": [
      "C:\\ProgramData\\Anaconda3\\lib\\site-packages\\seaborn\\distributions.py:2619: FutureWarning: `distplot` is a deprecated function and will be removed in a future version. Please adapt your code to use either `displot` (a figure-level function with similar flexibility) or `histplot` (an axes-level function for histograms).\n",
      "  warnings.warn(msg, FutureWarning)\n"
     ]
    },
    {
     "data": {
      "text/plain": [
       "<AxesSubplot:xlabel='total trips', ylabel='Density'>"
      ]
     },
     "execution_count": 22,
     "metadata": {},
     "output_type": "execute_result"
    },
    {
     "data": {
      "image/png": "[encoded data removed]",
      "text/plain": [
       "<Figure size 432x288 with 1 Axes>"
      ]
     },
     "metadata": {},
     "output_type": "display_data"
    }
   ],
   "source": [
    "sns.distplot(datauno['total trips'])"
   ]
  },
  {
   "cell_type": "code",
   "execution_count": 23,
   "id": "82986b85",
   "metadata": {},
   "outputs": [],
   "source": [
    "datados = pd.read_csv('TRBA1.20220403T120445.csv')"
   ]
  },
  {
   "cell_type": "code",
   "execution_count": 24,
   "id": "a13bc901",
   "metadata": {},
   "outputs": [
    {
     "data": {
      "text/html": [
       "<div>\n",
       "<style scoped>\n",
       "    .dataframe tbody tr th:only-of-type {\n",
       "        vertical-align: middle;\n",
       "    }\n",
       "\n",
       "    .dataframe tbody tr th {\n",
       "        vertical-align: top;\n",
       "    }\n",
       "\n",
       "    .dataframe thead th {\n",
       "        text-align: right;\n",
       "    }\n",
       "</style>\n",
       "<table border=\"1\" class=\"dataframe\">\n",
       "  <thead>\n",
       "    <tr style=\"text-align: right;\">\n",
       "      <th></th>\n",
       "      <th>Statistic</th>\n",
       "      <th>Year</th>\n",
       "      <th>Passenger Direction</th>\n",
       "      <th>Travel Mode</th>\n",
       "      <th>UNIT</th>\n",
       "      <th>VALUE</th>\n",
       "    </tr>\n",
       "  </thead>\n",
       "  <tbody>\n",
       "    <tr>\n",
       "      <th>0</th>\n",
       "      <td>International Movement of Passengers</td>\n",
       "      <td>1993</td>\n",
       "      <td>Departing Eire</td>\n",
       "      <td>Air</td>\n",
       "      <td>Number</td>\n",
       "      <td>3569016</td>\n",
       "    </tr>\n",
       "    <tr>\n",
       "      <th>1</th>\n",
       "      <td>International Movement of Passengers</td>\n",
       "      <td>1993</td>\n",
       "      <td>Departing Eire</td>\n",
       "      <td>Sea</td>\n",
       "      <td>Number</td>\n",
       "      <td>1909188</td>\n",
       "    </tr>\n",
       "    <tr>\n",
       "      <th>2</th>\n",
       "      <td>International Movement of Passengers</td>\n",
       "      <td>1994</td>\n",
       "      <td>Departing Eire</td>\n",
       "      <td>Air</td>\n",
       "      <td>Number</td>\n",
       "      <td>4169901</td>\n",
       "    </tr>\n",
       "    <tr>\n",
       "      <th>3</th>\n",
       "      <td>International Movement of Passengers</td>\n",
       "      <td>1994</td>\n",
       "      <td>Departing Eire</td>\n",
       "      <td>Sea</td>\n",
       "      <td>Number</td>\n",
       "      <td>1998442</td>\n",
       "    </tr>\n",
       "    <tr>\n",
       "      <th>4</th>\n",
       "      <td>International Movement of Passengers</td>\n",
       "      <td>1995</td>\n",
       "      <td>Departing Eire</td>\n",
       "      <td>Air</td>\n",
       "      <td>Number</td>\n",
       "      <td>4823842</td>\n",
       "    </tr>\n",
       "  </tbody>\n",
       "</table>\n",
       "</div>"
      ],
      "text/plain": [
       "                              Statistic  Year Passenger Direction Travel Mode  \\\n",
       "0  International Movement of Passengers  1993      Departing Eire         Air   \n",
       "1  International Movement of Passengers  1993      Departing Eire         Sea   \n",
       "2  International Movement of Passengers  1994      Departing Eire         Air   \n",
       "3  International Movement of Passengers  1994      Departing Eire         Sea   \n",
       "4  International Movement of Passengers  1995      Departing Eire         Air   \n",
       "\n",
       "     UNIT    VALUE  \n",
       "0  Number  3569016  \n",
       "1  Number  1909188  \n",
       "2  Number  4169901  \n",
       "3  Number  1998442  \n",
       "4  Number  4823842  "
      ]
     },
     "execution_count": 24,
     "metadata": {},
     "output_type": "execute_result"
    }
   ],
   "source": [
    "datados.head()"
   ]
  },
  {
   "cell_type": "code",
   "execution_count": 25,
   "id": "a90d81e5",
   "metadata": {},
   "outputs": [
    {
     "name": "stdout",
     "output_type": "stream",
     "text": [
      "['International Movement of Passengers']\n"
     ]
    }
   ],
   "source": [
    "print(datados['Statistic'].unique())"
   ]
  },
  {
   "cell_type": "code",
   "execution_count": 26,
   "id": "9e156c74",
   "metadata": {},
   "outputs": [
    {
     "name": "stdout",
     "output_type": "stream",
     "text": [
      "['Number']\n"
     ]
    }
   ],
   "source": [
    "print(datados['UNIT'].unique())"
   ]
  },
  {
   "cell_type": "code",
   "execution_count": 27,
   "id": "c291b2e6",
   "metadata": {},
   "outputs": [],
   "source": [
    "datados = datados.drop(['Statistic', 'Passenger Direction', 'UNIT'], axis=1)"
   ]
  },
  {
   "cell_type": "code",
   "execution_count": 28,
   "id": "cd5e3c77",
   "metadata": {},
   "outputs": [],
   "source": [
    "datados.rename(columns={\"VALUE\":\"Total Passengers\"} ,inplace=True)"
   ]
  },
  {
   "cell_type": "code",
   "execution_count": 29,
   "id": "cf4c18b3",
   "metadata": {},
   "outputs": [
    {
     "data": {
      "text/html": [
       "<div>\n",
       "<style scoped>\n",
       "    .dataframe tbody tr th:only-of-type {\n",
       "        vertical-align: middle;\n",
       "    }\n",
       "\n",
       "    .dataframe tbody tr th {\n",
       "        vertical-align: top;\n",
       "    }\n",
       "\n",
       "    .dataframe thead th {\n",
       "        text-align: right;\n",
       "    }\n",
       "</style>\n",
       "<table border=\"1\" class=\"dataframe\">\n",
       "  <thead>\n",
       "    <tr style=\"text-align: right;\">\n",
       "      <th></th>\n",
       "      <th>Year</th>\n",
       "      <th>Travel Mode</th>\n",
       "      <th>Total Passengers</th>\n",
       "    </tr>\n",
       "  </thead>\n",
       "  <tbody>\n",
       "    <tr>\n",
       "      <th>0</th>\n",
       "      <td>1993</td>\n",
       "      <td>Air</td>\n",
       "      <td>3569016</td>\n",
       "    </tr>\n",
       "    <tr>\n",
       "      <th>1</th>\n",
       "      <td>1993</td>\n",
       "      <td>Sea</td>\n",
       "      <td>1909188</td>\n",
       "    </tr>\n",
       "    <tr>\n",
       "      <th>2</th>\n",
       "      <td>1994</td>\n",
       "      <td>Air</td>\n",
       "      <td>4169901</td>\n",
       "    </tr>\n",
       "    <tr>\n",
       "      <th>3</th>\n",
       "      <td>1994</td>\n",
       "      <td>Sea</td>\n",
       "      <td>1998442</td>\n",
       "    </tr>\n",
       "    <tr>\n",
       "      <th>4</th>\n",
       "      <td>1995</td>\n",
       "      <td>Air</td>\n",
       "      <td>4823842</td>\n",
       "    </tr>\n",
       "  </tbody>\n",
       "</table>\n",
       "</div>"
      ],
      "text/plain": [
       "   Year Travel Mode  Total Passengers\n",
       "0  1993         Air           3569016\n",
       "1  1993         Sea           1909188\n",
       "2  1994         Air           4169901\n",
       "3  1994         Sea           1998442\n",
       "4  1995         Air           4823842"
      ]
     },
     "execution_count": 29,
     "metadata": {},
     "output_type": "execute_result"
    }
   ],
   "source": [
    "datados.head()"
   ]
  },
  {
   "cell_type": "code",
   "execution_count": 30,
   "id": "67ff90b7",
   "metadata": {},
   "outputs": [],
   "source": [
    "datados = datados.nlargest(n=100, columns=['Total Passengers'])"
   ]
  },
  {
   "cell_type": "code",
   "execution_count": 31,
   "id": "e8a1d1a2",
   "metadata": {},
   "outputs": [
    {
     "data": {
      "text/html": [
       "<div>\n",
       "<style scoped>\n",
       "    .dataframe tbody tr th:only-of-type {\n",
       "        vertical-align: middle;\n",
       "    }\n",
       "\n",
       "    .dataframe tbody tr th {\n",
       "        vertical-align: top;\n",
       "    }\n",
       "\n",
       "    .dataframe thead th {\n",
       "        text-align: right;\n",
       "    }\n",
       "</style>\n",
       "<table border=\"1\" class=\"dataframe\">\n",
       "  <thead>\n",
       "    <tr style=\"text-align: right;\">\n",
       "      <th></th>\n",
       "      <th>Year</th>\n",
       "      <th>Travel Mode</th>\n",
       "      <th>Total Passengers</th>\n",
       "    </tr>\n",
       "  </thead>\n",
       "  <tbody>\n",
       "    <tr>\n",
       "      <th>30</th>\n",
       "      <td>2008</td>\n",
       "      <td>Air</td>\n",
       "      <td>14659971</td>\n",
       "    </tr>\n",
       "    <tr>\n",
       "      <th>28</th>\n",
       "      <td>2007</td>\n",
       "      <td>Air</td>\n",
       "      <td>14584234</td>\n",
       "    </tr>\n",
       "    <tr>\n",
       "      <th>32</th>\n",
       "      <td>2009</td>\n",
       "      <td>Air</td>\n",
       "      <td>12874667</td>\n",
       "    </tr>\n",
       "    <tr>\n",
       "      <th>26</th>\n",
       "      <td>2006</td>\n",
       "      <td>Air</td>\n",
       "      <td>12812284</td>\n",
       "    </tr>\n",
       "    <tr>\n",
       "      <th>38</th>\n",
       "      <td>2012</td>\n",
       "      <td>Air</td>\n",
       "      <td>11839699</td>\n",
       "    </tr>\n",
       "  </tbody>\n",
       "</table>\n",
       "</div>"
      ],
      "text/plain": [
       "    Year Travel Mode  Total Passengers\n",
       "30  2008         Air          14659971\n",
       "28  2007         Air          14584234\n",
       "32  2009         Air          12874667\n",
       "26  2006         Air          12812284\n",
       "38  2012         Air          11839699"
      ]
     },
     "execution_count": 31,
     "metadata": {},
     "output_type": "execute_result"
    }
   ],
   "source": [
    "datados.head()"
   ]
  },
  {
   "cell_type": "code",
   "execution_count": 32,
   "id": "631fc8e2",
   "metadata": {},
   "outputs": [
    {
     "data": {
      "text/plain": [
       "(40, 3)"
      ]
     },
     "execution_count": 32,
     "metadata": {},
     "output_type": "execute_result"
    }
   ],
   "source": [
    "datados.shape"
   ]
  },
  {
   "cell_type": "code",
   "execution_count": 33,
   "id": "e4b5c7a0",
   "metadata": {},
   "outputs": [
    {
     "data": {
      "text/plain": [
       "<AxesSubplot:xlabel='count', ylabel='Travel Mode'>"
      ]
     },
     "execution_count": 33,
     "metadata": {},
     "output_type": "execute_result"
    },
    {
     "data": {
      "image/png": "[encoded data removed]",
      "text/plain": [
       "<Figure size 432x288 with 1 Axes>"
      ]
     },
     "metadata": {},
     "output_type": "display_data"
    }
   ],
   "source": [
    "sns.countplot(y='Travel Mode', data=datados.iloc[:-1])  "
   ]
  },
  {
   "cell_type": "code",
   "execution_count": 34,
   "id": "c7770433",
   "metadata": {},
   "outputs": [
    {
     "name": "stderr",
     "output_type": "stream",
     "text": [
      "C:\\ProgramData\\Anaconda3\\lib\\site-packages\\seaborn\\distributions.py:2619: FutureWarning: `distplot` is a deprecated function and will be removed in a future version. Please adapt your code to use either `displot` (a figure-level function with similar flexibility) or `histplot` (an axes-level function for histograms).\n",
      "  warnings.warn(msg, FutureWarning)\n"
     ]
    },
    {
     "data": {
      "text/plain": [
       "<AxesSubplot:xlabel='Total Passengers', ylabel='Density'>"
      ]
     },
     "execution_count": 34,
     "metadata": {},
     "output_type": "execute_result"
    },
    {
     "data": {
      "image/png": "[encoded data removed]",
      "text/plain": [
       "<Figure size 432x288 with 1 Axes>"
      ]
     },
     "metadata": {},
     "output_type": "display_data"
    }
   ],
   "source": [
    "sns.distplot(datados['Total Passengers'])"
   ]
  },
  {
   "cell_type": "code",
   "execution_count": 35,
   "id": "040f90f8",
   "metadata": {},
   "outputs": [],
   "source": [
    "from sklearn.preprocessing import LabelEncoder\n",
    "Travel_Mode= LabelEncoder()\n",
    "datados['Travel Mode'] = Travel_Mode.fit_transform(datados['Travel Mode'])"
   ]
  },
  {
   "cell_type": "code",
   "execution_count": 36,
   "id": "4989d38f",
   "metadata": {},
   "outputs": [
    {
     "name": "stdout",
     "output_type": "stream",
     "text": [
      "[0 1]\n"
     ]
    }
   ],
   "source": [
    "print(datados['Travel Mode'].unique())"
   ]
  },
  {
   "cell_type": "code",
   "execution_count": 37,
   "id": "4b61beb6",
   "metadata": {},
   "outputs": [
    {
     "data": {
      "text/html": [
       "<div>\n",
       "<style scoped>\n",
       "    .dataframe tbody tr th:only-of-type {\n",
       "        vertical-align: middle;\n",
       "    }\n",
       "\n",
       "    .dataframe tbody tr th {\n",
       "        vertical-align: top;\n",
       "    }\n",
       "\n",
       "    .dataframe thead th {\n",
       "        text-align: right;\n",
       "    }\n",
       "</style>\n",
       "<table border=\"1\" class=\"dataframe\">\n",
       "  <thead>\n",
       "    <tr style=\"text-align: right;\">\n",
       "      <th></th>\n",
       "      <th>Year</th>\n",
       "      <th>Travel Mode</th>\n",
       "      <th>Total Passengers</th>\n",
       "    </tr>\n",
       "  </thead>\n",
       "  <tbody>\n",
       "    <tr>\n",
       "      <th>30</th>\n",
       "      <td>2008</td>\n",
       "      <td>0</td>\n",
       "      <td>14659971</td>\n",
       "    </tr>\n",
       "    <tr>\n",
       "      <th>28</th>\n",
       "      <td>2007</td>\n",
       "      <td>0</td>\n",
       "      <td>14584234</td>\n",
       "    </tr>\n",
       "    <tr>\n",
       "      <th>32</th>\n",
       "      <td>2009</td>\n",
       "      <td>0</td>\n",
       "      <td>12874667</td>\n",
       "    </tr>\n",
       "    <tr>\n",
       "      <th>26</th>\n",
       "      <td>2006</td>\n",
       "      <td>0</td>\n",
       "      <td>12812284</td>\n",
       "    </tr>\n",
       "    <tr>\n",
       "      <th>38</th>\n",
       "      <td>2012</td>\n",
       "      <td>0</td>\n",
       "      <td>11839699</td>\n",
       "    </tr>\n",
       "  </tbody>\n",
       "</table>\n",
       "</div>"
      ],
      "text/plain": [
       "    Year  Travel Mode  Total Passengers\n",
       "30  2008            0          14659971\n",
       "28  2007            0          14584234\n",
       "32  2009            0          12874667\n",
       "26  2006            0          12812284\n",
       "38  2012            0          11839699"
      ]
     },
     "execution_count": 37,
     "metadata": {},
     "output_type": "execute_result"
    }
   ],
   "source": [
    "datados.head()"
   ]
  },
  {
   "cell_type": "code",
   "execution_count": 38,
   "id": "9e465c0f",
   "metadata": {},
   "outputs": [],
   "source": [
    "X = datados.iloc[:, :-1].values\n",
    "y = datados.iloc[:, -1].values"
   ]
  },
  {
   "cell_type": "code",
   "execution_count": 39,
   "id": "0ecbda27",
   "metadata": {},
   "outputs": [],
   "source": [
    "from sklearn.model_selection import train_test_split\n",
    "X_train, X_test, y_train, y_test = train_test_split(X, y, test_size = 0.2, random_state = 0)"
   ]
  },
  {
   "cell_type": "code",
   "execution_count": 40,
   "id": "1b45df98",
   "metadata": {},
   "outputs": [
    {
     "data": {
      "text/plain": [
       "LinearRegression()"
      ]
     },
     "execution_count": 40,
     "metadata": {},
     "output_type": "execute_result"
    }
   ],
   "source": [
    "from sklearn.linear_model import LinearRegression\n",
    "regressor = LinearRegression()\n",
    "regressor.fit(X_train, y_train)"
   ]
  },
  {
   "cell_type": "code",
   "execution_count": 41,
   "id": "bbbc4413",
   "metadata": {},
   "outputs": [
    {
     "name": "stdout",
     "output_type": "stream",
     "text": [
      "[[   46314.29  2260447.  ]\n",
      " [  309352.94  2421003.  ]\n",
      " [ -479763.01  2130747.  ]\n",
      " [11950624.39 11839699.  ]\n",
      " [ 9320237.88  9035676.  ]\n",
      " [ 8005044.63  6104802.  ]\n",
      " [ 1624546.2   2036287.  ]\n",
      " [ 9057199.23  8535752.  ]]\n"
     ]
    }
   ],
   "source": [
    "y_pred = regressor.predict(X_test)\n",
    "np.set_printoptions(precision=2) \n",
    "print(np.concatenate((y_pred.reshape(len(y_pred),1), y_test.reshape(len(y_test),1)),1))"
   ]
  },
  {
   "cell_type": "code",
   "execution_count": 42,
   "id": "0f42c3ce",
   "metadata": {},
   "outputs": [
    {
     "name": "stdout",
     "output_type": "stream",
     "text": [
      "The precision of the model is \n",
      "0.8058905344087979\n"
     ]
    }
   ],
   "source": [
    "print('The precision of the model is ')\n",
    "print(regressor.score(X_train, y_train))"
   ]
  },
  {
   "cell_type": "code",
   "execution_count": 43,
   "id": "cde02f37",
   "metadata": {},
   "outputs": [
    {
     "name": "stdout",
     "output_type": "stream",
     "text": [
      "[6885319.22]\n"
     ]
    }
   ],
   "source": [
    "print(regressor.predict([[2023,1]]))"
   ]
  },
  {
   "cell_type": "code",
   "execution_count": 44,
   "id": "511f0865",
   "metadata": {},
   "outputs": [
    {
     "name": "stdout",
     "output_type": "stream",
     "text": [
      "[14844049.55]\n"
     ]
    }
   ],
   "source": [
    "print(regressor.predict([[2023,0]]))"
   ]
  },
  {
   "cell_type": "code",
   "execution_count": 45,
   "id": "412e9f0d",
   "metadata": {},
   "outputs": [],
   "source": [
    "datacuatro = pd.read_csv('TMA11.20220403T120409.csv')"
   ]
  },
  {
   "cell_type": "code",
   "execution_count": 46,
   "id": "a3ac1c23",
   "metadata": {},
   "outputs": [
    {
     "data": {
      "text/html": [
       "<div>\n",
       "<style scoped>\n",
       "    .dataframe tbody tr th:only-of-type {\n",
       "        vertical-align: middle;\n",
       "    }\n",
       "\n",
       "    .dataframe tbody tr th {\n",
       "        vertical-align: top;\n",
       "    }\n",
       "\n",
       "    .dataframe thead th {\n",
       "        text-align: right;\n",
       "    }\n",
       "</style>\n",
       "<table border=\"1\" class=\"dataframe\">\n",
       "  <thead>\n",
       "    <tr style=\"text-align: right;\">\n",
       "      <th></th>\n",
       "      <th>Statistic</th>\n",
       "      <th>Year</th>\n",
       "      <th>Type of Expenditure</th>\n",
       "      <th>UNIT</th>\n",
       "      <th>VALUE</th>\n",
       "    </tr>\n",
       "  </thead>\n",
       "  <tbody>\n",
       "    <tr>\n",
       "      <th>0</th>\n",
       "      <td>Estimated Expenditure by Irish Residents on Ov...</td>\n",
       "      <td>2009</td>\n",
       "      <td>Fare payments by Irish residents abroad to Iri...</td>\n",
       "      <td>Euro Million</td>\n",
       "      <td>570</td>\n",
       "    </tr>\n",
       "    <tr>\n",
       "      <th>1</th>\n",
       "      <td>Estimated Expenditure by Irish Residents on Ov...</td>\n",
       "      <td>2010</td>\n",
       "      <td>Fare payments by Irish residents abroad to Iri...</td>\n",
       "      <td>Euro Million</td>\n",
       "      <td>590</td>\n",
       "    </tr>\n",
       "    <tr>\n",
       "      <th>2</th>\n",
       "      <td>Estimated Expenditure by Irish Residents on Ov...</td>\n",
       "      <td>2011</td>\n",
       "      <td>Fare payments by Irish residents abroad to Iri...</td>\n",
       "      <td>Euro Million</td>\n",
       "      <td>789</td>\n",
       "    </tr>\n",
       "    <tr>\n",
       "      <th>3</th>\n",
       "      <td>Estimated Expenditure by Irish Residents on Ov...</td>\n",
       "      <td>2012</td>\n",
       "      <td>Fare payments by Irish residents abroad to Iri...</td>\n",
       "      <td>Euro Million</td>\n",
       "      <td>821</td>\n",
       "    </tr>\n",
       "    <tr>\n",
       "      <th>4</th>\n",
       "      <td>Estimated Expenditure by Irish Residents on Ov...</td>\n",
       "      <td>2013</td>\n",
       "      <td>Fare payments by Irish residents abroad to Iri...</td>\n",
       "      <td>Euro Million</td>\n",
       "      <td>969</td>\n",
       "    </tr>\n",
       "  </tbody>\n",
       "</table>\n",
       "</div>"
      ],
      "text/plain": [
       "                                           Statistic  Year  \\\n",
       "0  Estimated Expenditure by Irish Residents on Ov...  2009   \n",
       "1  Estimated Expenditure by Irish Residents on Ov...  2010   \n",
       "2  Estimated Expenditure by Irish Residents on Ov...  2011   \n",
       "3  Estimated Expenditure by Irish Residents on Ov...  2012   \n",
       "4  Estimated Expenditure by Irish Residents on Ov...  2013   \n",
       "\n",
       "                                 Type of Expenditure          UNIT  VALUE  \n",
       "0  Fare payments by Irish residents abroad to Iri...  Euro Million    570  \n",
       "1  Fare payments by Irish residents abroad to Iri...  Euro Million    590  \n",
       "2  Fare payments by Irish residents abroad to Iri...  Euro Million    789  \n",
       "3  Fare payments by Irish residents abroad to Iri...  Euro Million    821  \n",
       "4  Fare payments by Irish residents abroad to Iri...  Euro Million    969  "
      ]
     },
     "execution_count": 46,
     "metadata": {},
     "output_type": "execute_result"
    }
   ],
   "source": [
    "datacuatro.head()"
   ]
  },
  {
   "cell_type": "code",
   "execution_count": 47,
   "id": "fd3e0ef7",
   "metadata": {},
   "outputs": [
    {
     "name": "stdout",
     "output_type": "stream",
     "text": [
      "['Estimated Expenditure by Irish Residents on Overseas Trips']\n"
     ]
    }
   ],
   "source": [
    "print(datacuatro['Statistic'].unique())"
   ]
  },
  {
   "cell_type": "code",
   "execution_count": 48,
   "id": "b656443c",
   "metadata": {},
   "outputs": [
    {
     "name": "stdout",
     "output_type": "stream",
     "text": [
      "['Fare payments by Irish residents abroad to Irish carriers']\n"
     ]
    }
   ],
   "source": [
    "print(datacuatro['Type of Expenditure'].unique())"
   ]
  },
  {
   "cell_type": "code",
   "execution_count": 49,
   "id": "56de87af",
   "metadata": {},
   "outputs": [
    {
     "name": "stdout",
     "output_type": "stream",
     "text": [
      "['Euro Million']\n"
     ]
    }
   ],
   "source": [
    "print(datacuatro['UNIT'].unique())"
   ]
  },
  {
   "cell_type": "code",
   "execution_count": 50,
   "id": "82f2bc14",
   "metadata": {},
   "outputs": [],
   "source": [
    "datacuatro = datacuatro.drop(['Statistic', 'Type of Expenditure', 'UNIT'], axis=1)"
   ]
  },
  {
   "cell_type": "code",
   "execution_count": 51,
   "id": "e9887745",
   "metadata": {},
   "outputs": [],
   "source": [
    "datacuatro.rename(columns={\"VALUE\":\"Fare Expenditure\"} ,inplace=True)"
   ]
  },
  {
   "cell_type": "code",
   "execution_count": 52,
   "id": "4ed7dbb3",
   "metadata": {},
   "outputs": [
    {
     "data": {
      "text/html": [
       "<div>\n",
       "<style scoped>\n",
       "    .dataframe tbody tr th:only-of-type {\n",
       "        vertical-align: middle;\n",
       "    }\n",
       "\n",
       "    .dataframe tbody tr th {\n",
       "        vertical-align: top;\n",
       "    }\n",
       "\n",
       "    .dataframe thead th {\n",
       "        text-align: right;\n",
       "    }\n",
       "</style>\n",
       "<table border=\"1\" class=\"dataframe\">\n",
       "  <thead>\n",
       "    <tr style=\"text-align: right;\">\n",
       "      <th></th>\n",
       "      <th>Year</th>\n",
       "      <th>Fare Expenditure</th>\n",
       "    </tr>\n",
       "  </thead>\n",
       "  <tbody>\n",
       "    <tr>\n",
       "      <th>0</th>\n",
       "      <td>2009</td>\n",
       "      <td>570</td>\n",
       "    </tr>\n",
       "    <tr>\n",
       "      <th>1</th>\n",
       "      <td>2010</td>\n",
       "      <td>590</td>\n",
       "    </tr>\n",
       "    <tr>\n",
       "      <th>2</th>\n",
       "      <td>2011</td>\n",
       "      <td>789</td>\n",
       "    </tr>\n",
       "    <tr>\n",
       "      <th>3</th>\n",
       "      <td>2012</td>\n",
       "      <td>821</td>\n",
       "    </tr>\n",
       "    <tr>\n",
       "      <th>4</th>\n",
       "      <td>2013</td>\n",
       "      <td>969</td>\n",
       "    </tr>\n",
       "  </tbody>\n",
       "</table>\n",
       "</div>"
      ],
      "text/plain": [
       "   Year  Fare Expenditure\n",
       "0  2009               570\n",
       "1  2010               590\n",
       "2  2011               789\n",
       "3  2012               821\n",
       "4  2013               969"
      ]
     },
     "execution_count": 52,
     "metadata": {},
     "output_type": "execute_result"
    }
   ],
   "source": [
    "datacuatro.head()"
   ]
  },
  {
   "cell_type": "code",
   "execution_count": 53,
   "id": "d596f66f",
   "metadata": {},
   "outputs": [],
   "source": [
    "datacuatro = datacuatro.nlargest(n=100, columns=['Fare Expenditure'])"
   ]
  },
  {
   "cell_type": "code",
   "execution_count": 54,
   "id": "872f85ba",
   "metadata": {},
   "outputs": [
    {
     "data": {
      "text/html": [
       "<div>\n",
       "<style scoped>\n",
       "    .dataframe tbody tr th:only-of-type {\n",
       "        vertical-align: middle;\n",
       "    }\n",
       "\n",
       "    .dataframe tbody tr th {\n",
       "        vertical-align: top;\n",
       "    }\n",
       "\n",
       "    .dataframe thead th {\n",
       "        text-align: right;\n",
       "    }\n",
       "</style>\n",
       "<table border=\"1\" class=\"dataframe\">\n",
       "  <thead>\n",
       "    <tr style=\"text-align: right;\">\n",
       "      <th></th>\n",
       "      <th>Year</th>\n",
       "      <th>Fare Expenditure</th>\n",
       "    </tr>\n",
       "  </thead>\n",
       "  <tbody>\n",
       "    <tr>\n",
       "      <th>10</th>\n",
       "      <td>2019</td>\n",
       "      <td>1435</td>\n",
       "    </tr>\n",
       "    <tr>\n",
       "      <th>9</th>\n",
       "      <td>2018</td>\n",
       "      <td>1423</td>\n",
       "    </tr>\n",
       "    <tr>\n",
       "      <th>8</th>\n",
       "      <td>2017</td>\n",
       "      <td>1377</td>\n",
       "    </tr>\n",
       "    <tr>\n",
       "      <th>7</th>\n",
       "      <td>2016</td>\n",
       "      <td>1247</td>\n",
       "    </tr>\n",
       "    <tr>\n",
       "      <th>6</th>\n",
       "      <td>2015</td>\n",
       "      <td>1148</td>\n",
       "    </tr>\n",
       "  </tbody>\n",
       "</table>\n",
       "</div>"
      ],
      "text/plain": [
       "    Year  Fare Expenditure\n",
       "10  2019              1435\n",
       "9   2018              1423\n",
       "8   2017              1377\n",
       "7   2016              1247\n",
       "6   2015              1148"
      ]
     },
     "execution_count": 54,
     "metadata": {},
     "output_type": "execute_result"
    }
   ],
   "source": [
    "datacuatro.head()"
   ]
  },
  {
   "cell_type": "code",
   "execution_count": 55,
   "id": "46ba858b",
   "metadata": {},
   "outputs": [
    {
     "data": {
      "text/plain": [
       "(11, 2)"
      ]
     },
     "execution_count": 55,
     "metadata": {},
     "output_type": "execute_result"
    }
   ],
   "source": [
    "datacuatro.shape"
   ]
  },
  {
   "cell_type": "code",
   "execution_count": 56,
   "id": "5a398ed4",
   "metadata": {},
   "outputs": [],
   "source": [
    "X = datacuatro.iloc[:, :-1].values\n",
    "y = datacuatro.iloc[:, -1].values"
   ]
  },
  {
   "cell_type": "code",
   "execution_count": 57,
   "id": "4dd94493",
   "metadata": {},
   "outputs": [
    {
     "data": {
      "text/plain": [
       "<seaborn.axisgrid.PairGrid at 0x1b86d1c5550>"
      ]
     },
     "execution_count": 57,
     "metadata": {},
     "output_type": "execute_result"
    },
    {
     "data": {
      "image/png": "[encoded data removed]",
      "text/plain": [
       "<Figure size 360x360 with 6 Axes>"
      ]
     },
     "metadata": {},
     "output_type": "display_data"
    }
   ],
   "source": [
    "sns.pairplot(datacuatro)"
   ]
  },
  {
   "cell_type": "code",
   "execution_count": 58,
   "id": "73931a23",
   "metadata": {},
   "outputs": [],
   "source": [
    "from sklearn.model_selection import train_test_split\n",
    "X_train, X_test, y_train, y_test = train_test_split(X, y, test_size = 0.2, random_state = 0)"
   ]
  },
  {
   "cell_type": "code",
   "execution_count": 59,
   "id": "a8f156d3",
   "metadata": {},
   "outputs": [
    {
     "data": {
      "text/plain": [
       "LinearRegression()"
      ]
     },
     "execution_count": 59,
     "metadata": {},
     "output_type": "execute_result"
    }
   ],
   "source": [
    "from sklearn.linear_model import LinearRegression\n",
    "regressor = LinearRegression()\n",
    "regressor.fit(X_train, y_train)"
   ]
  },
  {
   "cell_type": "code",
   "execution_count": 60,
   "id": "679dc282",
   "metadata": {},
   "outputs": [
    {
     "name": "stdout",
     "output_type": "stream",
     "text": [
      "[[1130.68 1148.  ]\n",
      " [ 682.29  590.  ]\n",
      " [1310.04 1377.  ]]\n"
     ]
    }
   ],
   "source": [
    "y_pred = regressor.predict(X_test)\n",
    "np.set_printoptions(precision=2)\n",
    "print(np.concatenate((y_pred.reshape(len(y_pred),1), y_test.reshape(len(y_test),1)),1))"
   ]
  },
  {
   "cell_type": "code",
   "execution_count": 61,
   "id": "621c44dc",
   "metadata": {},
   "outputs": [
    {
     "name": "stdout",
     "output_type": "stream",
     "text": [
      "The precision of the model is \n",
      "0.9882019364311317\n"
     ]
    }
   ],
   "source": [
    "print('The precision of the model is ')\n",
    "print(regressor.score(X_train, y_train))"
   ]
  },
  {
   "cell_type": "code",
   "execution_count": 62,
   "id": "a0e0575e",
   "metadata": {},
   "outputs": [
    {
     "name": "stdout",
     "output_type": "stream",
     "text": [
      "[1848.11]\n"
     ]
    }
   ],
   "source": [
    "print(regressor.predict([[2023]]))"
   ]
  },
  {
   "cell_type": "code",
   "execution_count": 63,
   "id": "e96db964",
   "metadata": {},
   "outputs": [
    {
     "name": "stdout",
     "output_type": "stream",
     "text": [
      "[1937.79]\n"
     ]
    }
   ],
   "source": [
    "print(regressor.predict([[2024]]))"
   ]
  },
  {
   "cell_type": "code",
   "execution_count": 64,
   "id": "62acf400",
   "metadata": {},
   "outputs": [
    {
     "name": "stdout",
     "output_type": "stream",
     "text": [
      "[2027.46]\n"
     ]
    }
   ],
   "source": [
    "print(regressor.predict([[2025]]))"
   ]
  }
 ],
 "metadata": {
  "kernelspec": {
   "display_name": "Python 3 (ipykernel)",
   "language": "python",
   "name": "python3"
  },
  "language_info": {
   "codemirror_mode": {
    "name": "ipython",
    "version": 3
   },
   "file_extension": ".py",
   "mimetype": "text/x-python",
   "name": "python",
   "nbconvert_exporter": "python",
   "pygments_lexer": "ipython3",
   "version": "3.9.7"
  }
 },
 "nbformat": 4,
 "nbformat_minor": 5
}
