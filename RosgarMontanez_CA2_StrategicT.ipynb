{
 "cells": [
  {
   "cell_type": "markdown",
   "id": "8afb03a1",
   "metadata": {},
   "source": [
    "## Transportation method from Ireland - CA2 Strategic Thinking - Team 6\n"
   ]
  },
  {
   "cell_type": "markdown",
   "id": "ff034033",
   "metadata": {},
   "source": [
    "Importing the relevant libraries to enable dataframe, numerical and visualisation functions:"
   ]
  },
  {
   "cell_type": "code",
   "execution_count": 1,
   "id": "1c42e4e6",
   "metadata": {},
   "outputs": [],
   "source": [
    "import numpy as np\n",
    "import matplotlib.pyplot as plt\n",
    "import pandas as pd\n",
    "import seaborn as sns\n",
    "%matplotlib inline \n",
    "sns.set(color_codes=True)"
   ]
  },
  {
   "cell_type": "markdown",
   "id": "bbf262c4",
   "metadata": {},
   "source": [
    "Using pandas to give dataframe to our first dataset:"
   ]
  },
  {
   "cell_type": "code",
   "execution_count": 2,
   "id": "835448b4",
   "metadata": {},
   "outputs": [],
   "source": [
    "datauno = pd.read_csv('HTA14.20220403T120429.csv')"
   ]
  },
  {
   "cell_type": "code",
   "execution_count": 3,
   "id": "3f8f74db",
   "metadata": {},
   "outputs": [
    {
     "data": {
      "text/html": [
       "<div>\n",
       "<style scoped>\n",
       "    .dataframe tbody tr th:only-of-type {\n",
       "        vertical-align: middle;\n",
       "    }\n",
       "\n",
       "    .dataframe tbody tr th {\n",
       "        vertical-align: top;\n",
       "    }\n",
       "\n",
       "    .dataframe thead th {\n",
       "        text-align: right;\n",
       "    }\n",
       "</style>\n",
       "<table border=\"1\" class=\"dataframe\">\n",
       "  <thead>\n",
       "    <tr style=\"text-align: right;\">\n",
       "      <th></th>\n",
       "      <th>Statistic</th>\n",
       "      <th>Year</th>\n",
       "      <th>Country and Region Visited</th>\n",
       "      <th>UNIT</th>\n",
       "      <th>VALUE</th>\n",
       "    </tr>\n",
       "  </thead>\n",
       "  <tbody>\n",
       "    <tr>\n",
       "      <th>0</th>\n",
       "      <td>Number of Trips by Irish Residents on Outbound...</td>\n",
       "      <td>2010</td>\n",
       "      <td>Austria</td>\n",
       "      <td>Thousand</td>\n",
       "      <td>76</td>\n",
       "    </tr>\n",
       "    <tr>\n",
       "      <th>1</th>\n",
       "      <td>Number of Trips by Irish Residents on Outbound...</td>\n",
       "      <td>2010</td>\n",
       "      <td>Belgium</td>\n",
       "      <td>Thousand</td>\n",
       "      <td>65</td>\n",
       "    </tr>\n",
       "    <tr>\n",
       "      <th>2</th>\n",
       "      <td>Number of Trips by Irish Residents on Outbound...</td>\n",
       "      <td>2010</td>\n",
       "      <td>Germany</td>\n",
       "      <td>Thousand</td>\n",
       "      <td>219</td>\n",
       "    </tr>\n",
       "    <tr>\n",
       "      <th>3</th>\n",
       "      <td>Number of Trips by Irish Residents on Outbound...</td>\n",
       "      <td>2010</td>\n",
       "      <td>Spain</td>\n",
       "      <td>Thousand</td>\n",
       "      <td>1371</td>\n",
       "    </tr>\n",
       "    <tr>\n",
       "      <th>4</th>\n",
       "      <td>Number of Trips by Irish Residents on Outbound...</td>\n",
       "      <td>2010</td>\n",
       "      <td>France</td>\n",
       "      <td>Thousand</td>\n",
       "      <td>635</td>\n",
       "    </tr>\n",
       "  </tbody>\n",
       "</table>\n",
       "</div>"
      ],
      "text/plain": [
       "                                           Statistic  Year  \\\n",
       "0  Number of Trips by Irish Residents on Outbound...  2010   \n",
       "1  Number of Trips by Irish Residents on Outbound...  2010   \n",
       "2  Number of Trips by Irish Residents on Outbound...  2010   \n",
       "3  Number of Trips by Irish Residents on Outbound...  2010   \n",
       "4  Number of Trips by Irish Residents on Outbound...  2010   \n",
       "\n",
       "  Country and Region Visited      UNIT  VALUE  \n",
       "0                    Austria  Thousand     76  \n",
       "1                    Belgium  Thousand     65  \n",
       "2                    Germany  Thousand    219  \n",
       "3                      Spain  Thousand   1371  \n",
       "4                     France  Thousand    635  "
      ]
     },
     "execution_count": 3,
     "metadata": {},
     "output_type": "execute_result"
    }
   ],
   "source": [
    "datauno.head()"
   ]
  },
  {
   "cell_type": "markdown",
   "id": "48339f1a",
   "metadata": {},
   "source": [
    "#### Exploratory Data Anaysis and Data Cleaning with visualisations"
   ]
  },
  {
   "cell_type": "markdown",
   "id": "c9873561",
   "metadata": {},
   "source": [
    "Checking the dimensions of our dataset:"
   ]
  },
  {
   "cell_type": "code",
   "execution_count": 4,
   "id": "7a711ce5",
   "metadata": {},
   "outputs": [
    {
     "data": {
      "text/plain": [
       "(130, 5)"
      ]
     },
     "execution_count": 4,
     "metadata": {},
     "output_type": "execute_result"
    }
   ],
   "source": [
    "datauno.shape"
   ]
  },
  {
   "cell_type": "markdown",
   "id": "94b5c249",
   "metadata": {},
   "source": [
    "The purpose of using this specific data is to have an overview of preferred destinations by travellers from Ireland, so all unrelated variables to the purpose will be removed as follows: \n",
    "    "
   ]
  },
  {
   "cell_type": "code",
   "execution_count": 5,
   "id": "d7f6bddd",
   "metadata": {},
   "outputs": [
    {
     "name": "stdout",
     "output_type": "stream",
     "text": [
      "['Thousand']\n"
     ]
    }
   ],
   "source": [
    "print(datauno['UNIT'].unique())"
   ]
  },
  {
   "cell_type": "markdown",
   "id": "4b30f8fa",
   "metadata": {},
   "source": [
    "Since the data from the 'VALUE' column is merely a reference to the measure we will drop it as further down we will standardise this references and hence it results irrelevant"
   ]
  },
  {
   "cell_type": "code",
   "execution_count": 6,
   "id": "764f0a12",
   "metadata": {},
   "outputs": [
    {
     "name": "stdout",
     "output_type": "stream",
     "text": [
      "0      Thousand\n",
      "1      Thousand\n",
      "2      Thousand\n",
      "3      Thousand\n",
      "4      Thousand\n",
      "         ...   \n",
      "125    Thousand\n",
      "126    Thousand\n",
      "127    Thousand\n",
      "128    Thousand\n",
      "129    Thousand\n",
      "Name: UNIT, Length: 130, dtype: object\n"
     ]
    }
   ],
   "source": [
    "a = datauno.pop('UNIT')\n",
    "print (a)"
   ]
  },
  {
   "cell_type": "markdown",
   "id": "090366f3",
   "metadata": {},
   "source": [
    "Checking the changes are in place:"
   ]
  },
  {
   "cell_type": "code",
   "execution_count": 7,
   "id": "724a7691",
   "metadata": {},
   "outputs": [
    {
     "data": {
      "text/html": [
       "<div>\n",
       "<style scoped>\n",
       "    .dataframe tbody tr th:only-of-type {\n",
       "        vertical-align: middle;\n",
       "    }\n",
       "\n",
       "    .dataframe tbody tr th {\n",
       "        vertical-align: top;\n",
       "    }\n",
       "\n",
       "    .dataframe thead th {\n",
       "        text-align: right;\n",
       "    }\n",
       "</style>\n",
       "<table border=\"1\" class=\"dataframe\">\n",
       "  <thead>\n",
       "    <tr style=\"text-align: right;\">\n",
       "      <th></th>\n",
       "      <th>Statistic</th>\n",
       "      <th>Year</th>\n",
       "      <th>Country and Region Visited</th>\n",
       "      <th>VALUE</th>\n",
       "    </tr>\n",
       "  </thead>\n",
       "  <tbody>\n",
       "    <tr>\n",
       "      <th>0</th>\n",
       "      <td>Number of Trips by Irish Residents on Outbound...</td>\n",
       "      <td>2010</td>\n",
       "      <td>Austria</td>\n",
       "      <td>76</td>\n",
       "    </tr>\n",
       "    <tr>\n",
       "      <th>1</th>\n",
       "      <td>Number of Trips by Irish Residents on Outbound...</td>\n",
       "      <td>2010</td>\n",
       "      <td>Belgium</td>\n",
       "      <td>65</td>\n",
       "    </tr>\n",
       "    <tr>\n",
       "      <th>2</th>\n",
       "      <td>Number of Trips by Irish Residents on Outbound...</td>\n",
       "      <td>2010</td>\n",
       "      <td>Germany</td>\n",
       "      <td>219</td>\n",
       "    </tr>\n",
       "    <tr>\n",
       "      <th>3</th>\n",
       "      <td>Number of Trips by Irish Residents on Outbound...</td>\n",
       "      <td>2010</td>\n",
       "      <td>Spain</td>\n",
       "      <td>1371</td>\n",
       "    </tr>\n",
       "    <tr>\n",
       "      <th>4</th>\n",
       "      <td>Number of Trips by Irish Residents on Outbound...</td>\n",
       "      <td>2010</td>\n",
       "      <td>France</td>\n",
       "      <td>635</td>\n",
       "    </tr>\n",
       "  </tbody>\n",
       "</table>\n",
       "</div>"
      ],
      "text/plain": [
       "                                           Statistic  Year  \\\n",
       "0  Number of Trips by Irish Residents on Outbound...  2010   \n",
       "1  Number of Trips by Irish Residents on Outbound...  2010   \n",
       "2  Number of Trips by Irish Residents on Outbound...  2010   \n",
       "3  Number of Trips by Irish Residents on Outbound...  2010   \n",
       "4  Number of Trips by Irish Residents on Outbound...  2010   \n",
       "\n",
       "  Country and Region Visited  VALUE  \n",
       "0                    Austria     76  \n",
       "1                    Belgium     65  \n",
       "2                    Germany    219  \n",
       "3                      Spain   1371  \n",
       "4                     France    635  "
      ]
     },
     "execution_count": 7,
     "metadata": {},
     "output_type": "execute_result"
    }
   ],
   "source": [
    "datauno.head()"
   ]
  },
  {
   "cell_type": "markdown",
   "id": "31c96bcd",
   "metadata": {},
   "source": [
    "We are doing the same with 'Statistic' as it refers to the number of trips outbound, we will rename the value column and drop the referencial one as follows:"
   ]
  },
  {
   "cell_type": "code",
   "execution_count": 8,
   "id": "48cf1619",
   "metadata": {},
   "outputs": [
    {
     "name": "stdout",
     "output_type": "stream",
     "text": [
      "['Number of Trips by Irish Residents on Outbound Travel Travel']\n"
     ]
    }
   ],
   "source": [
    "print(datauno['Statistic'].unique())"
   ]
  },
  {
   "cell_type": "code",
   "execution_count": 9,
   "id": "515b9500",
   "metadata": {},
   "outputs": [],
   "source": [
    "datauno.rename(columns={\"VALUE\":\"total trips\"} ,inplace=True)"
   ]
  },
  {
   "cell_type": "code",
   "execution_count": 10,
   "id": "9e25b8ec",
   "metadata": {},
   "outputs": [
    {
     "data": {
      "text/html": [
       "<div>\n",
       "<style scoped>\n",
       "    .dataframe tbody tr th:only-of-type {\n",
       "        vertical-align: middle;\n",
       "    }\n",
       "\n",
       "    .dataframe tbody tr th {\n",
       "        vertical-align: top;\n",
       "    }\n",
       "\n",
       "    .dataframe thead th {\n",
       "        text-align: right;\n",
       "    }\n",
       "</style>\n",
       "<table border=\"1\" class=\"dataframe\">\n",
       "  <thead>\n",
       "    <tr style=\"text-align: right;\">\n",
       "      <th></th>\n",
       "      <th>Statistic</th>\n",
       "      <th>Year</th>\n",
       "      <th>Country and Region Visited</th>\n",
       "      <th>total trips</th>\n",
       "    </tr>\n",
       "  </thead>\n",
       "  <tbody>\n",
       "    <tr>\n",
       "      <th>0</th>\n",
       "      <td>Number of Trips by Irish Residents on Outbound...</td>\n",
       "      <td>2010</td>\n",
       "      <td>Austria</td>\n",
       "      <td>76</td>\n",
       "    </tr>\n",
       "    <tr>\n",
       "      <th>1</th>\n",
       "      <td>Number of Trips by Irish Residents on Outbound...</td>\n",
       "      <td>2010</td>\n",
       "      <td>Belgium</td>\n",
       "      <td>65</td>\n",
       "    </tr>\n",
       "    <tr>\n",
       "      <th>2</th>\n",
       "      <td>Number of Trips by Irish Residents on Outbound...</td>\n",
       "      <td>2010</td>\n",
       "      <td>Germany</td>\n",
       "      <td>219</td>\n",
       "    </tr>\n",
       "    <tr>\n",
       "      <th>3</th>\n",
       "      <td>Number of Trips by Irish Residents on Outbound...</td>\n",
       "      <td>2010</td>\n",
       "      <td>Spain</td>\n",
       "      <td>1371</td>\n",
       "    </tr>\n",
       "    <tr>\n",
       "      <th>4</th>\n",
       "      <td>Number of Trips by Irish Residents on Outbound...</td>\n",
       "      <td>2010</td>\n",
       "      <td>France</td>\n",
       "      <td>635</td>\n",
       "    </tr>\n",
       "  </tbody>\n",
       "</table>\n",
       "</div>"
      ],
      "text/plain": [
       "                                           Statistic  Year  \\\n",
       "0  Number of Trips by Irish Residents on Outbound...  2010   \n",
       "1  Number of Trips by Irish Residents on Outbound...  2010   \n",
       "2  Number of Trips by Irish Residents on Outbound...  2010   \n",
       "3  Number of Trips by Irish Residents on Outbound...  2010   \n",
       "4  Number of Trips by Irish Residents on Outbound...  2010   \n",
       "\n",
       "  Country and Region Visited  total trips  \n",
       "0                    Austria           76  \n",
       "1                    Belgium           65  \n",
       "2                    Germany          219  \n",
       "3                      Spain         1371  \n",
       "4                     France          635  "
      ]
     },
     "execution_count": 10,
     "metadata": {},
     "output_type": "execute_result"
    }
   ],
   "source": [
    "datauno.head()"
   ]
  },
  {
   "cell_type": "code",
   "execution_count": 11,
   "id": "6a3c31f9",
   "metadata": {},
   "outputs": [
    {
     "name": "stdout",
     "output_type": "stream",
     "text": [
      "0      Number of Trips by Irish Residents on Outbound...\n",
      "1      Number of Trips by Irish Residents on Outbound...\n",
      "2      Number of Trips by Irish Residents on Outbound...\n",
      "3      Number of Trips by Irish Residents on Outbound...\n",
      "4      Number of Trips by Irish Residents on Outbound...\n",
      "                             ...                        \n",
      "125    Number of Trips by Irish Residents on Outbound...\n",
      "126    Number of Trips by Irish Residents on Outbound...\n",
      "127    Number of Trips by Irish Residents on Outbound...\n",
      "128    Number of Trips by Irish Residents on Outbound...\n",
      "129    Number of Trips by Irish Residents on Outbound...\n",
      "Name: Statistic, Length: 130, dtype: object\n"
     ]
    }
   ],
   "source": [
    "b = datauno.pop('Statistic')\n",
    "print (b)"
   ]
  },
  {
   "cell_type": "markdown",
   "id": "366a54b5",
   "metadata": {},
   "source": [
    "Finally we have our first dataset organised and we can analyse the number of trips to the regions per year"
   ]
  },
  {
   "cell_type": "code",
   "execution_count": 12,
   "id": "19ad2f9b",
   "metadata": {},
   "outputs": [
    {
     "data": {
      "text/html": [
       "<div>\n",
       "<style scoped>\n",
       "    .dataframe tbody tr th:only-of-type {\n",
       "        vertical-align: middle;\n",
       "    }\n",
       "\n",
       "    .dataframe tbody tr th {\n",
       "        vertical-align: top;\n",
       "    }\n",
       "\n",
       "    .dataframe thead th {\n",
       "        text-align: right;\n",
       "    }\n",
       "</style>\n",
       "<table border=\"1\" class=\"dataframe\">\n",
       "  <thead>\n",
       "    <tr style=\"text-align: right;\">\n",
       "      <th></th>\n",
       "      <th>Year</th>\n",
       "      <th>Country and Region Visited</th>\n",
       "      <th>total trips</th>\n",
       "    </tr>\n",
       "  </thead>\n",
       "  <tbody>\n",
       "    <tr>\n",
       "      <th>0</th>\n",
       "      <td>2010</td>\n",
       "      <td>Austria</td>\n",
       "      <td>76</td>\n",
       "    </tr>\n",
       "    <tr>\n",
       "      <th>1</th>\n",
       "      <td>2010</td>\n",
       "      <td>Belgium</td>\n",
       "      <td>65</td>\n",
       "    </tr>\n",
       "    <tr>\n",
       "      <th>2</th>\n",
       "      <td>2010</td>\n",
       "      <td>Germany</td>\n",
       "      <td>219</td>\n",
       "    </tr>\n",
       "    <tr>\n",
       "      <th>3</th>\n",
       "      <td>2010</td>\n",
       "      <td>Spain</td>\n",
       "      <td>1371</td>\n",
       "    </tr>\n",
       "    <tr>\n",
       "      <th>4</th>\n",
       "      <td>2010</td>\n",
       "      <td>France</td>\n",
       "      <td>635</td>\n",
       "    </tr>\n",
       "  </tbody>\n",
       "</table>\n",
       "</div>"
      ],
      "text/plain": [
       "   Year Country and Region Visited  total trips\n",
       "0  2010                    Austria           76\n",
       "1  2010                    Belgium           65\n",
       "2  2010                    Germany          219\n",
       "3  2010                      Spain         1371\n",
       "4  2010                     France          635"
      ]
     },
     "execution_count": 12,
     "metadata": {},
     "output_type": "execute_result"
    }
   ],
   "source": [
    "datauno.head()"
   ]
  },
  {
   "cell_type": "markdown",
   "id": "622268c2",
   "metadata": {},
   "source": [
    "I have all the variables removed kept in a variable separately in case I need them back further down.\n",
    "\n",
    "Next I will reorganice and change the names of the features we kept in our dataset as follows:"
   ]
  },
  {
   "cell_type": "code",
   "execution_count": 13,
   "id": "1890d336",
   "metadata": {},
   "outputs": [],
   "source": [
    "datauno.rename(columns={\"Country and Region Visited\":\"Region Visited\"} ,inplace=True)"
   ]
  },
  {
   "cell_type": "code",
   "execution_count": 14,
   "id": "941ee69f",
   "metadata": {},
   "outputs": [
    {
     "data": {
      "text/html": [
       "<div>\n",
       "<style scoped>\n",
       "    .dataframe tbody tr th:only-of-type {\n",
       "        vertical-align: middle;\n",
       "    }\n",
       "\n",
       "    .dataframe tbody tr th {\n",
       "        vertical-align: top;\n",
       "    }\n",
       "\n",
       "    .dataframe thead th {\n",
       "        text-align: right;\n",
       "    }\n",
       "</style>\n",
       "<table border=\"1\" class=\"dataframe\">\n",
       "  <thead>\n",
       "    <tr style=\"text-align: right;\">\n",
       "      <th></th>\n",
       "      <th>Year</th>\n",
       "      <th>Region Visited</th>\n",
       "      <th>total trips</th>\n",
       "    </tr>\n",
       "  </thead>\n",
       "  <tbody>\n",
       "    <tr>\n",
       "      <th>0</th>\n",
       "      <td>2010</td>\n",
       "      <td>Austria</td>\n",
       "      <td>76</td>\n",
       "    </tr>\n",
       "    <tr>\n",
       "      <th>1</th>\n",
       "      <td>2010</td>\n",
       "      <td>Belgium</td>\n",
       "      <td>65</td>\n",
       "    </tr>\n",
       "    <tr>\n",
       "      <th>2</th>\n",
       "      <td>2010</td>\n",
       "      <td>Germany</td>\n",
       "      <td>219</td>\n",
       "    </tr>\n",
       "    <tr>\n",
       "      <th>3</th>\n",
       "      <td>2010</td>\n",
       "      <td>Spain</td>\n",
       "      <td>1371</td>\n",
       "    </tr>\n",
       "    <tr>\n",
       "      <th>4</th>\n",
       "      <td>2010</td>\n",
       "      <td>France</td>\n",
       "      <td>635</td>\n",
       "    </tr>\n",
       "  </tbody>\n",
       "</table>\n",
       "</div>"
      ],
      "text/plain": [
       "   Year Region Visited  total trips\n",
       "0  2010        Austria           76\n",
       "1  2010        Belgium           65\n",
       "2  2010        Germany          219\n",
       "3  2010          Spain         1371\n",
       "4  2010         France          635"
      ]
     },
     "execution_count": 14,
     "metadata": {},
     "output_type": "execute_result"
    }
   ],
   "source": [
    "datauno.head()"
   ]
  },
  {
   "cell_type": "code",
   "execution_count": 15,
   "id": "93779186",
   "metadata": {},
   "outputs": [
    {
     "name": "stdout",
     "output_type": "stream",
     "text": [
      "number of duplicate rows: (0, 3)\n"
     ]
    }
   ],
   "source": [
    "duplicate_rows_datauno = datauno[datauno.duplicated()]\n",
    "print(\"number of duplicate rows:\", duplicate_rows_datauno.shape)"
   ]
  },
  {
   "cell_type": "markdown",
   "id": "a5dc3554",
   "metadata": {},
   "source": [
    "There are no Duplicates to remove in our data, next I will check the missing values and depending on the % of presence make a decision in regards to imputation method or removal accordingly:"
   ]
  },
  {
   "cell_type": "code",
   "execution_count": 16,
   "id": "46b622e9",
   "metadata": {},
   "outputs": [
    {
     "name": "stdout",
     "output_type": "stream",
     "text": [
      "Year              0\n",
      "Region Visited    0\n",
      "total trips       0\n",
      "dtype: int64\n"
     ]
    }
   ],
   "source": [
    "print(datauno.isnull().sum())"
   ]
  },
  {
   "cell_type": "markdown",
   "id": "0b96a0d7",
   "metadata": {},
   "source": [
    "There are no missing values in our data."
   ]
  },
  {
   "cell_type": "code",
   "execution_count": 17,
   "id": "5e922edb",
   "metadata": {},
   "outputs": [
    {
     "data": {
      "text/plain": [
       "Year              130\n",
       "Region Visited    130\n",
       "total trips       130\n",
       "dtype: int64"
      ]
     },
     "execution_count": 17,
     "metadata": {},
     "output_type": "execute_result"
    }
   ],
   "source": [
    "datauno = datauno.dropna()\n",
    "datauno.count()"
   ]
  },
  {
   "cell_type": "markdown",
   "id": "0239a690",
   "metadata": {},
   "source": [
    "All our variables keep the same number of observations because no missing values were identified to be dropped."
   ]
  },
  {
   "cell_type": "code",
   "execution_count": 18,
   "id": "fd073bda",
   "metadata": {},
   "outputs": [
    {
     "name": "stdout",
     "output_type": "stream",
     "text": [
      "<class 'pandas.core.frame.DataFrame'>\n",
      "Int64Index: 130 entries, 0 to 129\n",
      "Data columns (total 3 columns):\n",
      " #   Column          Non-Null Count  Dtype \n",
      "---  ------          --------------  ----- \n",
      " 0   Year            130 non-null    int64 \n",
      " 1   Region Visited  130 non-null    object\n",
      " 2   total trips     130 non-null    int64 \n",
      "dtypes: int64(2), object(1)\n",
      "memory usage: 4.1+ KB\n"
     ]
    }
   ],
   "source": [
    "datauno.info()"
   ]
  },
  {
   "cell_type": "markdown",
   "id": "5e75b680",
   "metadata": {},
   "source": [
    "Next I will reoganice the data from the largest number of instances to the lower, that way I can start making conclusions regarding the most repeated value in the destinations feature:"
   ]
  },
  {
   "cell_type": "code",
   "execution_count": 19,
   "id": "82cfcd90",
   "metadata": {},
   "outputs": [
    {
     "data": {
      "text/plain": [
       "122    3059\n",
       "109    2728\n",
       "96     2597\n",
       "83     2463\n",
       "44     2407\n",
       "57     2355\n",
       "5      2343\n",
       "18     2304\n",
       "127    2304\n",
       "70     2269\n",
       "Name: total trips, dtype: int64"
      ]
     },
     "execution_count": 19,
     "metadata": {},
     "output_type": "execute_result"
    }
   ],
   "source": [
    "datauno['total trips'].nlargest(n=10)"
   ]
  },
  {
   "cell_type": "code",
   "execution_count": 20,
   "id": "6f944a75",
   "metadata": {},
   "outputs": [],
   "source": [
    "datauno = datauno.nlargest(n=100, columns=['total trips'])"
   ]
  },
  {
   "cell_type": "code",
   "execution_count": 21,
   "id": "0b20ddcc",
   "metadata": {},
   "outputs": [
    {
     "data": {
      "text/html": [
       "<div>\n",
       "<style scoped>\n",
       "    .dataframe tbody tr th:only-of-type {\n",
       "        vertical-align: middle;\n",
       "    }\n",
       "\n",
       "    .dataframe tbody tr th {\n",
       "        vertical-align: top;\n",
       "    }\n",
       "\n",
       "    .dataframe thead th {\n",
       "        text-align: right;\n",
       "    }\n",
       "</style>\n",
       "<table border=\"1\" class=\"dataframe\">\n",
       "  <thead>\n",
       "    <tr style=\"text-align: right;\">\n",
       "      <th></th>\n",
       "      <th>Year</th>\n",
       "      <th>Region Visited</th>\n",
       "      <th>total trips</th>\n",
       "    </tr>\n",
       "  </thead>\n",
       "  <tbody>\n",
       "    <tr>\n",
       "      <th>122</th>\n",
       "      <td>2019</td>\n",
       "      <td>United Kingdom (includes Great Britain &amp; North...</td>\n",
       "      <td>3059</td>\n",
       "    </tr>\n",
       "    <tr>\n",
       "      <th>109</th>\n",
       "      <td>2018</td>\n",
       "      <td>United Kingdom (includes Great Britain &amp; North...</td>\n",
       "      <td>2728</td>\n",
       "    </tr>\n",
       "    <tr>\n",
       "      <th>96</th>\n",
       "      <td>2017</td>\n",
       "      <td>United Kingdom (includes Great Britain &amp; North...</td>\n",
       "      <td>2597</td>\n",
       "    </tr>\n",
       "    <tr>\n",
       "      <th>83</th>\n",
       "      <td>2016</td>\n",
       "      <td>United Kingdom (includes Great Britain &amp; North...</td>\n",
       "      <td>2463</td>\n",
       "    </tr>\n",
       "    <tr>\n",
       "      <th>44</th>\n",
       "      <td>2013</td>\n",
       "      <td>United Kingdom (includes Great Britain &amp; North...</td>\n",
       "      <td>2407</td>\n",
       "    </tr>\n",
       "  </tbody>\n",
       "</table>\n",
       "</div>"
      ],
      "text/plain": [
       "     Year                                     Region Visited  total trips\n",
       "122  2019  United Kingdom (includes Great Britain & North...         3059\n",
       "109  2018  United Kingdom (includes Great Britain & North...         2728\n",
       "96   2017  United Kingdom (includes Great Britain & North...         2597\n",
       "83   2016  United Kingdom (includes Great Britain & North...         2463\n",
       "44   2013  United Kingdom (includes Great Britain & North...         2407"
      ]
     },
     "execution_count": 21,
     "metadata": {},
     "output_type": "execute_result"
    }
   ],
   "source": [
    "datauno.head()"
   ]
  },
  {
   "cell_type": "code",
   "execution_count": 22,
   "id": "922032f8",
   "metadata": {},
   "outputs": [
    {
     "data": {
      "text/plain": [
       "(100, 3)"
      ]
     },
     "execution_count": 22,
     "metadata": {},
     "output_type": "execute_result"
    }
   ],
   "source": [
    "datauno.shape"
   ]
  },
  {
   "cell_type": "markdown",
   "id": "b417be7c",
   "metadata": {},
   "source": [
    "##### Visualisation"
   ]
  },
  {
   "cell_type": "code",
   "execution_count": 23,
   "id": "5400cf44",
   "metadata": {},
   "outputs": [
    {
     "data": {
      "text/plain": [
       "<AxesSubplot:xlabel='count', ylabel='Region Visited'>"
      ]
     },
     "execution_count": 23,
     "metadata": {},
     "output_type": "execute_result"
    },
    {
     "data": {
      "image/png": "[encoded data removed]",
      "text/plain": [
       "<Figure size 432x288 with 1 Axes>"
      ]
     },
     "metadata": {},
     "output_type": "display_data"
    }
   ],
   "source": [
    "sns.countplot(y='Region Visited', data=datauno.iloc[0:100])  "
   ]
  },
  {
   "cell_type": "markdown",
   "id": "6ed2c41e",
   "metadata": {},
   "source": [
    "We've seen that several UK regions are counted separately so I will remove the irrelevant observations and keep the most useful to the exercise:"
   ]
  },
  {
   "cell_type": "code",
   "execution_count": 24,
   "id": "f12acbf5",
   "metadata": {},
   "outputs": [],
   "source": [
    "datauno.drop(datauno.index[(datauno[\"Region Visited\"] == 'Great Britain')],axis=0,inplace=True)"
   ]
  },
  {
   "cell_type": "code",
   "execution_count": 25,
   "id": "fc0aeda8",
   "metadata": {},
   "outputs": [],
   "source": [
    "datauno.drop(datauno.index[(datauno[\"Region Visited\"] == 'Northern Ireland')],axis=0,inplace=True)"
   ]
  },
  {
   "cell_type": "markdown",
   "id": "b75df2c7",
   "metadata": {},
   "source": [
    "And I will check the new dimensions of the dataset:"
   ]
  },
  {
   "cell_type": "code",
   "execution_count": 26,
   "id": "7fbab83e",
   "metadata": {},
   "outputs": [
    {
     "name": "stdout",
     "output_type": "stream",
     "text": [
      "<class 'pandas.core.frame.DataFrame'>\n",
      "Int64Index: 80 entries, 122 to 105\n",
      "Data columns (total 3 columns):\n",
      " #   Column          Non-Null Count  Dtype \n",
      "---  ------          --------------  ----- \n",
      " 0   Year            80 non-null     int64 \n",
      " 1   Region Visited  80 non-null     object\n",
      " 2   total trips     80 non-null     int64 \n",
      "dtypes: int64(2), object(1)\n",
      "memory usage: 2.5+ KB\n"
     ]
    }
   ],
   "source": [
    "datauno.info ()"
   ]
  },
  {
   "cell_type": "markdown",
   "id": "48b4bd4d",
   "metadata": {},
   "source": [
    "Creating the graph again with the accurate data:"
   ]
  },
  {
   "cell_type": "code",
   "execution_count": 27,
   "id": "87604962",
   "metadata": {},
   "outputs": [
    {
     "data": {
      "text/plain": [
       "<AxesSubplot:xlabel='count', ylabel='Region Visited'>"
      ]
     },
     "execution_count": 27,
     "metadata": {},
     "output_type": "execute_result"
    },
    {
     "data": {
      "image/png": "[encoded data removed]",
      "text/plain": [
       "<Figure size 432x288 with 1 Axes>"
      ]
     },
     "metadata": {},
     "output_type": "display_data"
    }
   ],
   "source": [
    "sns.countplot(y='Region Visited', data=datauno.iloc[0:100])  "
   ]
  },
  {
   "cell_type": "markdown",
   "id": "7ea55f05",
   "metadata": {},
   "source": [
    "And now we can visualise the destinations one bar per Region (Country). Based in our graph results we can conclude that the top 3 destinations are UK, Spain and France."
   ]
  },
  {
   "cell_type": "markdown",
   "id": "a299c930",
   "metadata": {},
   "source": [
    "Next I will encode the countries variable so they can be included in the following calculations and visualisations.\n",
    "\n",
    "Checking the currentl unique values:"
   ]
  },
  {
   "cell_type": "code",
   "execution_count": 28,
   "id": "95363b69",
   "metadata": {},
   "outputs": [
    {
     "name": "stdout",
     "output_type": "stream",
     "text": [
      "['United Kingdom (includes Great Britain & Northern Ireland)' 'Spain'\n",
      " 'France' 'Italy' 'Portugal' 'Germany' 'Netherlands' 'Poland' 'Belgium'\n",
      " 'Denmark/Finland/Sweden' 'Austria']\n"
     ]
    }
   ],
   "source": [
    "print(datauno['Region Visited'].unique())"
   ]
  },
  {
   "cell_type": "markdown",
   "id": "8d7a97be",
   "metadata": {},
   "source": [
    "Using LabelEncoder from sklearn:"
   ]
  },
  {
   "cell_type": "code",
   "execution_count": 29,
   "id": "17f82531",
   "metadata": {},
   "outputs": [],
   "source": [
    "from sklearn.preprocessing import LabelEncoder\n",
    "Region_Visited= LabelEncoder()\n",
    "datauno['Region Visited'] = Region_Visited.fit_transform(datauno['Region Visited'])"
   ]
  },
  {
   "cell_type": "markdown",
   "id": "437095b7",
   "metadata": {},
   "source": [
    "Checking the encoding is in place:"
   ]
  },
  {
   "cell_type": "code",
   "execution_count": 30,
   "id": "64e2b005",
   "metadata": {},
   "outputs": [
    {
     "name": "stdout",
     "output_type": "stream",
     "text": [
      "[10  9  3  5  8  4  6  7  1  2  0]\n"
     ]
    }
   ],
   "source": [
    "print(datauno['Region Visited'].unique())"
   ]
  },
  {
   "cell_type": "markdown",
   "id": "57f28340",
   "metadata": {},
   "source": [
    "I want to predict the number of trips that there will be done on the top 3 Regions in the year 2025 because then I can start setting the goals based on the demand that we will predict.\n",
    "\n",
    "The variable 'Total Trips' is a continous numerical feature, so I will train a regressor algorithm to work on this analysis. I want to check if the data has certain pattern or correlations before choosing the Regression method so I will create a heat map as follows:"
   ]
  },
  {
   "cell_type": "code",
   "execution_count": 31,
   "id": "7c28c243",
   "metadata": {},
   "outputs": [
    {
     "data": {
      "image/png": "[encoded data removed]",
      "text/plain": [
       "<Figure size 1152x432 with 2 Axes>"
      ]
     },
     "metadata": {},
     "output_type": "display_data"
    }
   ],
   "source": [
    "plt.figure(figsize=(16, 6))\n",
    "heatmap = sns.heatmap(datauno.corr(), vmin=-1, vmax=1, annot=True)\n",
    "heatmap.set_title('Correlation travel Features', fontdict={'fontsize':20}, pad=12);"
   ]
  },
  {
   "cell_type": "markdown",
   "id": "0016d3b1",
   "metadata": {},
   "source": [
    "Having a parameter of 1 for strongly correlated and -1 for unrelated we can see that the only two variables seem to have certain level of relation ship is No. trips and Region. "
   ]
  },
  {
   "cell_type": "markdown",
   "id": "acc5763c",
   "metadata": {},
   "source": [
    "##### Training the KNN regressor model:"
   ]
  },
  {
   "cell_type": "code",
   "execution_count": 32,
   "id": "a2f3b091",
   "metadata": {},
   "outputs": [],
   "source": [
    "X = datauno.iloc[:, :-1].values\n",
    "y = datauno.iloc[:, -1].values"
   ]
  },
  {
   "cell_type": "code",
   "execution_count": 33,
   "id": "02d90287",
   "metadata": {},
   "outputs": [],
   "source": [
    "# Splitting the dataset into the Training set and Test set\n",
    "from sklearn.model_selection import train_test_split\n",
    "X_train, X_test, y_train, y_test = train_test_split(X, y, test_size = 0.25, random_state = 0)\n",
    "#print(X_train)\n",
    "#print(y_train)\n",
    "#print(X_test)\n",
    "#print(y_test)"
   ]
  },
  {
   "cell_type": "code",
   "execution_count": 34,
   "id": "fb57c44a",
   "metadata": {},
   "outputs": [
    {
     "name": "stdout",
     "output_type": "stream",
     "text": [
      "[[-0.95078396  0.63853749]\n",
      " [-0.26758591  0.63853749]\n",
      " [-1.63398202 -0.49945012]\n",
      " [ 1.09881021 -2.01676692]\n",
      " [-0.26758591 -0.87877932]\n",
      " [-0.60918494  1.01786669]\n",
      " [-1.29238299 -0.87877932]\n",
      " [-0.60918494 -0.87877932]\n",
      " [-1.63398202  1.39719589]\n",
      " [-1.63398202 -0.87877932]\n",
      " [ 0.75721118  0.25920829]\n",
      " [-0.60918494  1.39719589]\n",
      " [ 0.41561215  0.63853749]\n",
      " [ 0.75721118 -0.12012091]\n",
      " [ 0.75721118 -1.25810852]\n",
      " [ 1.09881021  1.01786669]\n",
      " [ 1.09881021 -0.12012091]\n",
      " [-0.95078396 -1.25810852]\n",
      " [ 1.44040924  1.01786669]\n",
      " [ 1.44040924  0.63853749]\n",
      " [-0.95078396 -0.49945012]\n",
      " [ 1.44040924  0.25920829]\n",
      " [ 1.09881021  1.39719589]\n",
      " [-1.29238299 -1.25810852]\n",
      " [-0.95078396  0.25920829]\n",
      " [ 0.07401312  1.01786669]\n",
      " [ 0.41561215 -0.87877932]\n",
      " [-0.26758591  1.01786669]\n",
      " [-0.60918494 -1.25810852]\n",
      " [-0.26758591 -0.49945012]\n",
      " [ 0.41561215 -1.25810852]\n",
      " [ 0.75721118 -0.49945012]\n",
      " [-0.95078396  1.01786669]\n",
      " [ 1.44040924  1.39719589]\n",
      " [-1.63398202 -0.12012091]\n",
      " [-1.29238299  1.01786669]\n",
      " [-0.26758591  1.39719589]\n",
      " [ 0.07401312 -0.87877932]\n",
      " [-1.63398202  1.01786669]\n",
      " [ 0.75721118 -0.87877932]\n",
      " [ 1.09881021 -1.25810852]\n",
      " [-0.26758591  0.25920829]\n",
      " [ 0.07401312  1.39719589]\n",
      " [ 0.41561215  1.01786669]\n",
      " [ 1.44040924 -1.25810852]\n",
      " [ 1.09881021  0.63853749]\n",
      " [-0.60918494  0.63853749]\n",
      " [ 1.09881021 -0.87877932]\n",
      " [ 1.09881021  0.25920829]\n",
      " [ 1.44040924 -0.12012091]\n",
      " [ 0.75721118  1.01786669]\n",
      " [-0.95078396 -0.12012091]\n",
      " [ 0.07401312 -0.49945012]\n",
      " [-1.63398202 -1.25810852]\n",
      " [-0.95078396  1.39719589]\n",
      " [ 1.44040924 -2.01676692]\n",
      " [ 0.41561215 -2.01676692]\n",
      " [ 0.41561215 -0.12012091]\n",
      " [ 0.07401312  0.63853749]\n",
      " [-1.29238299  0.63853749]]\n",
      "[[-1.29238299 -0.49945012]\n",
      " [-0.26758591 -1.25810852]\n",
      " [ 0.75721118  0.63853749]\n",
      " [ 0.75721118 -2.39609612]\n",
      " [-1.63398202  0.63853749]\n",
      " [ 0.07401312 -1.63743772]\n",
      " [ 0.07401312 -0.12012091]\n",
      " [ 0.07401312 -2.01676692]\n",
      " [-0.60918494 -0.49945012]\n",
      " [-1.29238299 -0.12012091]\n",
      " [ 0.41561215 -0.49945012]\n",
      " [-0.95078396 -0.87877932]\n",
      " [ 0.75721118  1.39719589]\n",
      " [ 0.41561215  0.25920829]\n",
      " [ 1.44040924 -0.87877932]\n",
      " [ 1.09881021 -0.49945012]\n",
      " [ 0.41561215  1.39719589]\n",
      " [ 0.07401312 -1.25810852]\n",
      " [-1.29238299  1.39719589]\n",
      " [ 1.44040924 -0.49945012]]\n"
     ]
    }
   ],
   "source": [
    "# Feature Scaling\n",
    "from sklearn.preprocessing import StandardScaler\n",
    "sc = StandardScaler()\n",
    "X_train = sc.fit_transform(X_train)\n",
    "X_test = sc.transform(X_test)\n",
    "print(X_train)\n",
    "print(X_test)"
   ]
  },
  {
   "cell_type": "code",
   "execution_count": 35,
   "id": "f2d5f602",
   "metadata": {},
   "outputs": [
    {
     "data": {
      "text/plain": [
       "KNeighborsRegressor()"
      ]
     },
     "execution_count": 35,
     "metadata": {},
     "output_type": "execute_result"
    }
   ],
   "source": [
    "from sklearn.neighbors import KNeighborsRegressor\n",
    "regressor = KNeighborsRegressor(n_neighbors = 5, metric = 'minkowski', p = 2)\n",
    "regressor.fit(X_train, y_train)"
   ]
  },
  {
   "cell_type": "code",
   "execution_count": 36,
   "id": "500f4342",
   "metadata": {},
   "outputs": [
    {
     "name": "stdout",
     "output_type": "stream",
     "text": [
      "[1672.2]\n"
     ]
    }
   ],
   "source": [
    "# Predicting a new result for UK\n",
    "print(regressor.predict(sc.transform([[2025, 10]])))"
   ]
  },
  {
   "cell_type": "code",
   "execution_count": 37,
   "id": "95cb8dc1",
   "metadata": {},
   "outputs": [
    {
     "name": "stdout",
     "output_type": "stream",
     "text": [
      "[1167.6]\n"
     ]
    }
   ],
   "source": [
    "# Predicting a new result for Spain \n",
    "print(regressor.predict(sc.transform([[2025, 9]])))"
   ]
  },
  {
   "cell_type": "code",
   "execution_count": 38,
   "id": "b22fb0c9",
   "metadata": {},
   "outputs": [
    {
     "name": "stdout",
     "output_type": "stream",
     "text": [
      "[386.2]\n"
     ]
    }
   ],
   "source": [
    "# Predicting a new result for France\n",
    "print(regressor.predict(sc.transform([[2025, 3]])))"
   ]
  },
  {
   "cell_type": "markdown",
   "id": "c9cc8d09",
   "metadata": {},
   "source": [
    "Now we now how many trips we could expect to take place in 2025 to the top Three Destinations (10 - UK, 9 - Spain and 3 France)"
   ]
  },
  {
   "cell_type": "code",
   "execution_count": 39,
   "id": "6dd63ec9",
   "metadata": {},
   "outputs": [
    {
     "name": "stdout",
     "output_type": "stream",
     "text": [
      "[[ 246.6  267. ]\n",
      " [ 351.   586. ]\n",
      " [ 870.8  526. ]\n",
      " [ 297.4   96. ]\n",
      " [ 712.8  333. ]\n",
      " [ 407.   114. ]\n",
      " [ 238.6  136. ]\n",
      " [ 385.2  125. ]\n",
      " [ 224.8  284. ]\n",
      " [ 204.   120. ]\n",
      " [ 297.   362. ]\n",
      " [ 365.6  163. ]\n",
      " [2025.6 2597. ]\n",
      " [ 260.2  113. ]\n",
      " [ 418.6  261. ]\n",
      " [ 292.4  448. ]\n",
      " [1978.8 2463. ]\n",
      " [ 362.6  632. ]\n",
      " [1740.  2304. ]\n",
      " [ 366.2  590. ]]\n"
     ]
    }
   ],
   "source": [
    "# Predicting the Test set results\n",
    "y_pred = regressor.predict(X_test)\n",
    "print(np.concatenate((y_pred.reshape(len(y_pred),1), y_test.reshape(len(y_test),1)),1))"
   ]
  },
  {
   "cell_type": "code",
   "execution_count": 40,
   "id": "563c8550",
   "metadata": {},
   "outputs": [
    {
     "name": "stdout",
     "output_type": "stream",
     "text": [
      "The precision of the model is \n",
      "0.8917920982043233\n"
     ]
    }
   ],
   "source": [
    "print('The precision of the model is ')\n",
    "print(regressor.score(X_train, y_train))\n"
   ]
  },
  {
   "cell_type": "markdown",
   "id": "14e00b83",
   "metadata": {},
   "source": [
    "### Second dataset\n",
    "\n",
    "The next dataset is going to provide information about the Number of travels made by Air and by Sea per year. And we want to be able to predict what number of trips will there by by both transportation methods on 2025.\n",
    "\n",
    "\n",
    "The process of EDA and Data Cleaning will be done as per previous dataset.   \n"
   ]
  },
  {
   "cell_type": "code",
   "execution_count": 41,
   "id": "82986b85",
   "metadata": {},
   "outputs": [],
   "source": [
    "datados = pd.read_csv('TRBA1.20220403T120445.csv')"
   ]
  },
  {
   "cell_type": "code",
   "execution_count": 42,
   "id": "a13bc901",
   "metadata": {},
   "outputs": [
    {
     "data": {
      "text/html": [
       "<div>\n",
       "<style scoped>\n",
       "    .dataframe tbody tr th:only-of-type {\n",
       "        vertical-align: middle;\n",
       "    }\n",
       "\n",
       "    .dataframe tbody tr th {\n",
       "        vertical-align: top;\n",
       "    }\n",
       "\n",
       "    .dataframe thead th {\n",
       "        text-align: right;\n",
       "    }\n",
       "</style>\n",
       "<table border=\"1\" class=\"dataframe\">\n",
       "  <thead>\n",
       "    <tr style=\"text-align: right;\">\n",
       "      <th></th>\n",
       "      <th>Statistic</th>\n",
       "      <th>Year</th>\n",
       "      <th>Passenger Direction</th>\n",
       "      <th>Travel Mode</th>\n",
       "      <th>UNIT</th>\n",
       "      <th>VALUE</th>\n",
       "    </tr>\n",
       "  </thead>\n",
       "  <tbody>\n",
       "    <tr>\n",
       "      <th>0</th>\n",
       "      <td>International Movement of Passengers</td>\n",
       "      <td>1993</td>\n",
       "      <td>Departing Eire</td>\n",
       "      <td>Air</td>\n",
       "      <td>Number</td>\n",
       "      <td>3569016</td>\n",
       "    </tr>\n",
       "    <tr>\n",
       "      <th>1</th>\n",
       "      <td>International Movement of Passengers</td>\n",
       "      <td>1993</td>\n",
       "      <td>Departing Eire</td>\n",
       "      <td>Sea</td>\n",
       "      <td>Number</td>\n",
       "      <td>1909188</td>\n",
       "    </tr>\n",
       "    <tr>\n",
       "      <th>2</th>\n",
       "      <td>International Movement of Passengers</td>\n",
       "      <td>1994</td>\n",
       "      <td>Departing Eire</td>\n",
       "      <td>Air</td>\n",
       "      <td>Number</td>\n",
       "      <td>4169901</td>\n",
       "    </tr>\n",
       "    <tr>\n",
       "      <th>3</th>\n",
       "      <td>International Movement of Passengers</td>\n",
       "      <td>1994</td>\n",
       "      <td>Departing Eire</td>\n",
       "      <td>Sea</td>\n",
       "      <td>Number</td>\n",
       "      <td>1998442</td>\n",
       "    </tr>\n",
       "    <tr>\n",
       "      <th>4</th>\n",
       "      <td>International Movement of Passengers</td>\n",
       "      <td>1995</td>\n",
       "      <td>Departing Eire</td>\n",
       "      <td>Air</td>\n",
       "      <td>Number</td>\n",
       "      <td>4823842</td>\n",
       "    </tr>\n",
       "  </tbody>\n",
       "</table>\n",
       "</div>"
      ],
      "text/plain": [
       "                              Statistic  Year Passenger Direction Travel Mode  \\\n",
       "0  International Movement of Passengers  1993      Departing Eire         Air   \n",
       "1  International Movement of Passengers  1993      Departing Eire         Sea   \n",
       "2  International Movement of Passengers  1994      Departing Eire         Air   \n",
       "3  International Movement of Passengers  1994      Departing Eire         Sea   \n",
       "4  International Movement of Passengers  1995      Departing Eire         Air   \n",
       "\n",
       "     UNIT    VALUE  \n",
       "0  Number  3569016  \n",
       "1  Number  1909188  \n",
       "2  Number  4169901  \n",
       "3  Number  1998442  \n",
       "4  Number  4823842  "
      ]
     },
     "execution_count": 42,
     "metadata": {},
     "output_type": "execute_result"
    }
   ],
   "source": [
    "datados.head()"
   ]
  },
  {
   "cell_type": "code",
   "execution_count": 43,
   "id": "b775b218",
   "metadata": {},
   "outputs": [
    {
     "name": "stdout",
     "output_type": "stream",
     "text": [
      "<class 'pandas.core.frame.DataFrame'>\n",
      "RangeIndex: 40 entries, 0 to 39\n",
      "Data columns (total 6 columns):\n",
      " #   Column               Non-Null Count  Dtype \n",
      "---  ------               --------------  ----- \n",
      " 0   Statistic            40 non-null     object\n",
      " 1   Year                 40 non-null     int64 \n",
      " 2   Passenger Direction  40 non-null     object\n",
      " 3   Travel Mode          40 non-null     object\n",
      " 4   UNIT                 40 non-null     object\n",
      " 5   VALUE                40 non-null     int64 \n",
      "dtypes: int64(2), object(4)\n",
      "memory usage: 2.0+ KB\n"
     ]
    }
   ],
   "source": [
    "datados.info()"
   ]
  },
  {
   "cell_type": "code",
   "execution_count": 44,
   "id": "09d9560b",
   "metadata": {},
   "outputs": [
    {
     "name": "stdout",
     "output_type": "stream",
     "text": [
      "number of duplicate rows: (0, 6)\n"
     ]
    }
   ],
   "source": [
    "duplicate_rows_datados = datados[datados.duplicated()]\n",
    "print(\"number of duplicate rows:\", duplicate_rows_datados.shape)"
   ]
  },
  {
   "cell_type": "markdown",
   "id": "e899a46d",
   "metadata": {},
   "source": [
    "There are no duplicates in our observations"
   ]
  },
  {
   "cell_type": "code",
   "execution_count": 45,
   "id": "badc8fb0",
   "metadata": {},
   "outputs": [
    {
     "name": "stdout",
     "output_type": "stream",
     "text": [
      "Statistic              0\n",
      "Year                   0\n",
      "Passenger Direction    0\n",
      "Travel Mode            0\n",
      "UNIT                   0\n",
      "VALUE                  0\n",
      "dtype: int64\n"
     ]
    }
   ],
   "source": [
    "print(datados.isnull().sum())"
   ]
  },
  {
   "cell_type": "code",
   "execution_count": 46,
   "id": "a24c89de",
   "metadata": {},
   "outputs": [
    {
     "data": {
      "text/plain": [
       "Statistic              40\n",
       "Year                   40\n",
       "Passenger Direction    40\n",
       "Travel Mode            40\n",
       "UNIT                   40\n",
       "VALUE                  40\n",
       "dtype: int64"
      ]
     },
     "execution_count": 46,
     "metadata": {},
     "output_type": "execute_result"
    }
   ],
   "source": [
    "datados = datados.dropna()\n",
    "datados.count()"
   ]
  },
  {
   "cell_type": "markdown",
   "id": "819189fa",
   "metadata": {},
   "source": [
    "And there are no missing values in the dataset either. I will proceed to check the variables and act according to their relevance in the same manner than for the first dataset:"
   ]
  },
  {
   "cell_type": "code",
   "execution_count": 47,
   "id": "a90d81e5",
   "metadata": {},
   "outputs": [
    {
     "name": "stdout",
     "output_type": "stream",
     "text": [
      "['International Movement of Passengers']\n"
     ]
    }
   ],
   "source": [
    "print(datados['Statistic'].unique())"
   ]
  },
  {
   "cell_type": "code",
   "execution_count": 48,
   "id": "9e156c74",
   "metadata": {},
   "outputs": [
    {
     "name": "stdout",
     "output_type": "stream",
     "text": [
      "['Number']\n"
     ]
    }
   ],
   "source": [
    "print(datados['UNIT'].unique())"
   ]
  },
  {
   "cell_type": "code",
   "execution_count": 49,
   "id": "c291b2e6",
   "metadata": {},
   "outputs": [],
   "source": [
    "datados = datados.drop(['Statistic', 'Passenger Direction', 'UNIT'], axis=1)"
   ]
  },
  {
   "cell_type": "code",
   "execution_count": 50,
   "id": "cd5e3c77",
   "metadata": {},
   "outputs": [],
   "source": [
    "datados.rename(columns={\"VALUE\":\"Total Passengers\"} ,inplace=True)"
   ]
  },
  {
   "cell_type": "code",
   "execution_count": 51,
   "id": "cf4c18b3",
   "metadata": {},
   "outputs": [
    {
     "data": {
      "text/html": [
       "<div>\n",
       "<style scoped>\n",
       "    .dataframe tbody tr th:only-of-type {\n",
       "        vertical-align: middle;\n",
       "    }\n",
       "\n",
       "    .dataframe tbody tr th {\n",
       "        vertical-align: top;\n",
       "    }\n",
       "\n",
       "    .dataframe thead th {\n",
       "        text-align: right;\n",
       "    }\n",
       "</style>\n",
       "<table border=\"1\" class=\"dataframe\">\n",
       "  <thead>\n",
       "    <tr style=\"text-align: right;\">\n",
       "      <th></th>\n",
       "      <th>Year</th>\n",
       "      <th>Travel Mode</th>\n",
       "      <th>Total Passengers</th>\n",
       "    </tr>\n",
       "  </thead>\n",
       "  <tbody>\n",
       "    <tr>\n",
       "      <th>0</th>\n",
       "      <td>1993</td>\n",
       "      <td>Air</td>\n",
       "      <td>3569016</td>\n",
       "    </tr>\n",
       "    <tr>\n",
       "      <th>1</th>\n",
       "      <td>1993</td>\n",
       "      <td>Sea</td>\n",
       "      <td>1909188</td>\n",
       "    </tr>\n",
       "    <tr>\n",
       "      <th>2</th>\n",
       "      <td>1994</td>\n",
       "      <td>Air</td>\n",
       "      <td>4169901</td>\n",
       "    </tr>\n",
       "    <tr>\n",
       "      <th>3</th>\n",
       "      <td>1994</td>\n",
       "      <td>Sea</td>\n",
       "      <td>1998442</td>\n",
       "    </tr>\n",
       "    <tr>\n",
       "      <th>4</th>\n",
       "      <td>1995</td>\n",
       "      <td>Air</td>\n",
       "      <td>4823842</td>\n",
       "    </tr>\n",
       "  </tbody>\n",
       "</table>\n",
       "</div>"
      ],
      "text/plain": [
       "   Year Travel Mode  Total Passengers\n",
       "0  1993         Air           3569016\n",
       "1  1993         Sea           1909188\n",
       "2  1994         Air           4169901\n",
       "3  1994         Sea           1998442\n",
       "4  1995         Air           4823842"
      ]
     },
     "execution_count": 51,
     "metadata": {},
     "output_type": "execute_result"
    }
   ],
   "source": [
    "datados.head()"
   ]
  },
  {
   "cell_type": "code",
   "execution_count": 52,
   "id": "a385a07d",
   "metadata": {},
   "outputs": [
    {
     "name": "stdout",
     "output_type": "stream",
     "text": [
      "<class 'pandas.core.frame.DataFrame'>\n",
      "Int64Index: 40 entries, 0 to 39\n",
      "Data columns (total 3 columns):\n",
      " #   Column            Non-Null Count  Dtype \n",
      "---  ------            --------------  ----- \n",
      " 0   Year              40 non-null     int64 \n",
      " 1   Travel Mode       40 non-null     object\n",
      " 2   Total Passengers  40 non-null     int64 \n",
      "dtypes: int64(2), object(1)\n",
      "memory usage: 1.2+ KB\n"
     ]
    }
   ],
   "source": [
    "datados.info ()"
   ]
  },
  {
   "cell_type": "code",
   "execution_count": 53,
   "id": "67ff90b7",
   "metadata": {},
   "outputs": [],
   "source": [
    "datados = datados.nlargest(n=100, columns=['Total Passengers'])"
   ]
  },
  {
   "cell_type": "code",
   "execution_count": 54,
   "id": "e8a1d1a2",
   "metadata": {},
   "outputs": [
    {
     "data": {
      "text/html": [
       "<div>\n",
       "<style scoped>\n",
       "    .dataframe tbody tr th:only-of-type {\n",
       "        vertical-align: middle;\n",
       "    }\n",
       "\n",
       "    .dataframe tbody tr th {\n",
       "        vertical-align: top;\n",
       "    }\n",
       "\n",
       "    .dataframe thead th {\n",
       "        text-align: right;\n",
       "    }\n",
       "</style>\n",
       "<table border=\"1\" class=\"dataframe\">\n",
       "  <thead>\n",
       "    <tr style=\"text-align: right;\">\n",
       "      <th></th>\n",
       "      <th>Year</th>\n",
       "      <th>Travel Mode</th>\n",
       "      <th>Total Passengers</th>\n",
       "    </tr>\n",
       "  </thead>\n",
       "  <tbody>\n",
       "    <tr>\n",
       "      <th>30</th>\n",
       "      <td>2008</td>\n",
       "      <td>Air</td>\n",
       "      <td>14659971</td>\n",
       "    </tr>\n",
       "    <tr>\n",
       "      <th>28</th>\n",
       "      <td>2007</td>\n",
       "      <td>Air</td>\n",
       "      <td>14584234</td>\n",
       "    </tr>\n",
       "    <tr>\n",
       "      <th>32</th>\n",
       "      <td>2009</td>\n",
       "      <td>Air</td>\n",
       "      <td>12874667</td>\n",
       "    </tr>\n",
       "    <tr>\n",
       "      <th>26</th>\n",
       "      <td>2006</td>\n",
       "      <td>Air</td>\n",
       "      <td>12812284</td>\n",
       "    </tr>\n",
       "    <tr>\n",
       "      <th>38</th>\n",
       "      <td>2012</td>\n",
       "      <td>Air</td>\n",
       "      <td>11839699</td>\n",
       "    </tr>\n",
       "  </tbody>\n",
       "</table>\n",
       "</div>"
      ],
      "text/plain": [
       "    Year Travel Mode  Total Passengers\n",
       "30  2008         Air          14659971\n",
       "28  2007         Air          14584234\n",
       "32  2009         Air          12874667\n",
       "26  2006         Air          12812284\n",
       "38  2012         Air          11839699"
      ]
     },
     "execution_count": 54,
     "metadata": {},
     "output_type": "execute_result"
    }
   ],
   "source": [
    "datados.head()"
   ]
  },
  {
   "cell_type": "code",
   "execution_count": 55,
   "id": "631fc8e2",
   "metadata": {},
   "outputs": [
    {
     "data": {
      "text/plain": [
       "(40, 3)"
      ]
     },
     "execution_count": 55,
     "metadata": {},
     "output_type": "execute_result"
    }
   ],
   "source": [
    "datados.shape"
   ]
  },
  {
   "cell_type": "markdown",
   "id": "13abb4e5",
   "metadata": {},
   "source": [
    "##### Visualisation"
   ]
  },
  {
   "cell_type": "code",
   "execution_count": 56,
   "id": "e4b5c7a0",
   "metadata": {
    "scrolled": true
   },
   "outputs": [
    {
     "data": {
      "text/plain": [
       "<AxesSubplot:xlabel='count', ylabel='Travel Mode'>"
      ]
     },
     "execution_count": 56,
     "metadata": {},
     "output_type": "execute_result"
    },
    {
     "data": {
      "image/png": "[encoded data removed]",
      "text/plain": [
       "<Figure size 432x288 with 1 Axes>"
      ]
     },
     "metadata": {},
     "output_type": "display_data"
    }
   ],
   "source": [
    "sns.countplot(y='Travel Mode', data=datados.iloc[:-1])  "
   ]
  },
  {
   "cell_type": "code",
   "execution_count": 57,
   "id": "9644cd81",
   "metadata": {},
   "outputs": [
    {
     "name": "stdout",
     "output_type": "stream",
     "text": [
      "['Air' 'Sea']\n"
     ]
    }
   ],
   "source": [
    "print(datados['Travel Mode'].unique())"
   ]
  },
  {
   "cell_type": "code",
   "execution_count": 58,
   "id": "040f90f8",
   "metadata": {},
   "outputs": [],
   "source": [
    "from sklearn.preprocessing import LabelEncoder\n",
    "Travel_Mode= LabelEncoder()\n",
    "datados['Travel Mode'] = Travel_Mode.fit_transform(datados['Travel Mode'])"
   ]
  },
  {
   "cell_type": "code",
   "execution_count": 59,
   "id": "4989d38f",
   "metadata": {},
   "outputs": [
    {
     "name": "stdout",
     "output_type": "stream",
     "text": [
      "[0 1]\n"
     ]
    }
   ],
   "source": [
    "print(datados['Travel Mode'].unique())"
   ]
  },
  {
   "cell_type": "code",
   "execution_count": 60,
   "id": "b964dd41",
   "metadata": {},
   "outputs": [
    {
     "data": {
      "text/html": [
       "<div>\n",
       "<style scoped>\n",
       "    .dataframe tbody tr th:only-of-type {\n",
       "        vertical-align: middle;\n",
       "    }\n",
       "\n",
       "    .dataframe tbody tr th {\n",
       "        vertical-align: top;\n",
       "    }\n",
       "\n",
       "    .dataframe thead th {\n",
       "        text-align: right;\n",
       "    }\n",
       "</style>\n",
       "<table border=\"1\" class=\"dataframe\">\n",
       "  <thead>\n",
       "    <tr style=\"text-align: right;\">\n",
       "      <th></th>\n",
       "      <th>Year</th>\n",
       "      <th>Travel Mode</th>\n",
       "      <th>Total Passengers</th>\n",
       "    </tr>\n",
       "  </thead>\n",
       "  <tbody>\n",
       "    <tr>\n",
       "      <th>Year</th>\n",
       "      <td>1.000000e+00</td>\n",
       "      <td>-2.458314e-14</td>\n",
       "      <td>0.313534</td>\n",
       "    </tr>\n",
       "    <tr>\n",
       "      <th>Travel Mode</th>\n",
       "      <td>-2.458314e-14</td>\n",
       "      <td>1.000000e+00</td>\n",
       "      <td>-0.844216</td>\n",
       "    </tr>\n",
       "    <tr>\n",
       "      <th>Total Passengers</th>\n",
       "      <td>3.135340e-01</td>\n",
       "      <td>-8.442156e-01</td>\n",
       "      <td>1.000000</td>\n",
       "    </tr>\n",
       "  </tbody>\n",
       "</table>\n",
       "</div>"
      ],
      "text/plain": [
       "                          Year   Travel Mode  Total Passengers\n",
       "Year              1.000000e+00 -2.458314e-14          0.313534\n",
       "Travel Mode      -2.458314e-14  1.000000e+00         -0.844216\n",
       "Total Passengers  3.135340e-01 -8.442156e-01          1.000000"
      ]
     },
     "execution_count": 60,
     "metadata": {},
     "output_type": "execute_result"
    },
    {
     "data": {
      "image/png": "[encoded data removed]",
      "text/plain": [
       "<Figure size 1440x720 with 2 Axes>"
      ]
     },
     "metadata": {},
     "output_type": "display_data"
    }
   ],
   "source": [
    "plt.figure(figsize=(20,10))\n",
    "c= datados.corr()\n",
    "sns.heatmap(c,cmap=\"BrBG\",annot=True)\n",
    "c"
   ]
  },
  {
   "cell_type": "markdown",
   "id": "7bf3fa70",
   "metadata": {},
   "source": [
    "There seem to be no correlation whatsoever between variables. This is already useful for us to choose the right model to make our predictions regarding the number of passengers expected in 2025 in both travelling methods."
   ]
  },
  {
   "cell_type": "code",
   "execution_count": 61,
   "id": "4b61beb6",
   "metadata": {},
   "outputs": [
    {
     "data": {
      "text/html": [
       "<div>\n",
       "<style scoped>\n",
       "    .dataframe tbody tr th:only-of-type {\n",
       "        vertical-align: middle;\n",
       "    }\n",
       "\n",
       "    .dataframe tbody tr th {\n",
       "        vertical-align: top;\n",
       "    }\n",
       "\n",
       "    .dataframe thead th {\n",
       "        text-align: right;\n",
       "    }\n",
       "</style>\n",
       "<table border=\"1\" class=\"dataframe\">\n",
       "  <thead>\n",
       "    <tr style=\"text-align: right;\">\n",
       "      <th></th>\n",
       "      <th>Year</th>\n",
       "      <th>Travel Mode</th>\n",
       "      <th>Total Passengers</th>\n",
       "    </tr>\n",
       "  </thead>\n",
       "  <tbody>\n",
       "    <tr>\n",
       "      <th>30</th>\n",
       "      <td>2008</td>\n",
       "      <td>0</td>\n",
       "      <td>14659971</td>\n",
       "    </tr>\n",
       "    <tr>\n",
       "      <th>28</th>\n",
       "      <td>2007</td>\n",
       "      <td>0</td>\n",
       "      <td>14584234</td>\n",
       "    </tr>\n",
       "    <tr>\n",
       "      <th>32</th>\n",
       "      <td>2009</td>\n",
       "      <td>0</td>\n",
       "      <td>12874667</td>\n",
       "    </tr>\n",
       "    <tr>\n",
       "      <th>26</th>\n",
       "      <td>2006</td>\n",
       "      <td>0</td>\n",
       "      <td>12812284</td>\n",
       "    </tr>\n",
       "    <tr>\n",
       "      <th>38</th>\n",
       "      <td>2012</td>\n",
       "      <td>0</td>\n",
       "      <td>11839699</td>\n",
       "    </tr>\n",
       "  </tbody>\n",
       "</table>\n",
       "</div>"
      ],
      "text/plain": [
       "    Year  Travel Mode  Total Passengers\n",
       "30  2008            0          14659971\n",
       "28  2007            0          14584234\n",
       "32  2009            0          12874667\n",
       "26  2006            0          12812284\n",
       "38  2012            0          11839699"
      ]
     },
     "execution_count": 61,
     "metadata": {},
     "output_type": "execute_result"
    }
   ],
   "source": [
    "datados.head()"
   ]
  },
  {
   "cell_type": "markdown",
   "id": "f7c4683d",
   "metadata": {},
   "source": [
    "##### Training the Decision Tree Regressor:"
   ]
  },
  {
   "cell_type": "code",
   "execution_count": 62,
   "id": "9e465c0f",
   "metadata": {},
   "outputs": [],
   "source": [
    "X = datados.iloc[:,0:-1].values\n",
    "y = datados.iloc[:, -1].values"
   ]
  },
  {
   "cell_type": "code",
   "execution_count": 63,
   "id": "311cf760",
   "metadata": {},
   "outputs": [
    {
     "data": {
      "text/plain": [
       "DecisionTreeRegressor(random_state=0)"
      ]
     },
     "execution_count": 63,
     "metadata": {},
     "output_type": "execute_result"
    }
   ],
   "source": [
    "# Training the Decision Tree Regression model on the whole dataset\n",
    "from sklearn.tree import DecisionTreeRegressor\n",
    "regressor = DecisionTreeRegressor(random_state = 0)\n",
    "regressor.fit(X, y)"
   ]
  },
  {
   "cell_type": "code",
   "execution_count": 64,
   "id": "351a9cb3",
   "metadata": {},
   "outputs": [
    {
     "data": {
      "text/plain": [
       "array([11839699.])"
      ]
     },
     "execution_count": 64,
     "metadata": {},
     "output_type": "execute_result"
    }
   ],
   "source": [
    "# Predicting a new result\n",
    "regressor.predict([[2025, 0]])"
   ]
  },
  {
   "cell_type": "code",
   "execution_count": 65,
   "id": "7b495adc",
   "metadata": {},
   "outputs": [
    {
     "data": {
      "text/plain": [
       "array([1321876.])"
      ]
     },
     "execution_count": 65,
     "metadata": {},
     "output_type": "execute_result"
    }
   ],
   "source": [
    "# Predicting a new result\n",
    "regressor.predict([[2025, 1]])"
   ]
  },
  {
   "cell_type": "markdown",
   "id": "32dd6020",
   "metadata": {},
   "source": [
    "### Third Dataset\n",
    "\n",
    "The last dataset I'm going to use will provide data about the amount of money spend by passengers only in tickets (fare Expenditure). \n",
    "\n",
    "We will make predictions based on how much can we expect to be the Fare Expenditure by 2025 so we can make conclusions regarding the market behave. \n",
    "\n",
    "If the market has a solid trend we can use all the previous information and issue investments recomendations to the business, but if the prediction regarding travelling expenditure is not promising we might want to evaluate different ways to increase the profit in the company."
   ]
  },
  {
   "cell_type": "markdown",
   "id": "6faccb29",
   "metadata": {},
   "source": [
    "The EDA and Data Cleaning method will be the same as per previous datasets."
   ]
  },
  {
   "cell_type": "code",
   "execution_count": 66,
   "id": "412e9f0d",
   "metadata": {},
   "outputs": [],
   "source": [
    "datacuatro = pd.read_csv('TMA11.20220403T120409.csv')"
   ]
  },
  {
   "cell_type": "code",
   "execution_count": 67,
   "id": "a3ac1c23",
   "metadata": {},
   "outputs": [
    {
     "data": {
      "text/html": [
       "<div>\n",
       "<style scoped>\n",
       "    .dataframe tbody tr th:only-of-type {\n",
       "        vertical-align: middle;\n",
       "    }\n",
       "\n",
       "    .dataframe tbody tr th {\n",
       "        vertical-align: top;\n",
       "    }\n",
       "\n",
       "    .dataframe thead th {\n",
       "        text-align: right;\n",
       "    }\n",
       "</style>\n",
       "<table border=\"1\" class=\"dataframe\">\n",
       "  <thead>\n",
       "    <tr style=\"text-align: right;\">\n",
       "      <th></th>\n",
       "      <th>Statistic</th>\n",
       "      <th>Year</th>\n",
       "      <th>Type of Expenditure</th>\n",
       "      <th>UNIT</th>\n",
       "      <th>VALUE</th>\n",
       "    </tr>\n",
       "  </thead>\n",
       "  <tbody>\n",
       "    <tr>\n",
       "      <th>0</th>\n",
       "      <td>Estimated Expenditure by Irish Residents on Ov...</td>\n",
       "      <td>2009</td>\n",
       "      <td>Fare payments by Irish residents abroad to Iri...</td>\n",
       "      <td>Euro Million</td>\n",
       "      <td>570</td>\n",
       "    </tr>\n",
       "    <tr>\n",
       "      <th>1</th>\n",
       "      <td>Estimated Expenditure by Irish Residents on Ov...</td>\n",
       "      <td>2010</td>\n",
       "      <td>Fare payments by Irish residents abroad to Iri...</td>\n",
       "      <td>Euro Million</td>\n",
       "      <td>590</td>\n",
       "    </tr>\n",
       "    <tr>\n",
       "      <th>2</th>\n",
       "      <td>Estimated Expenditure by Irish Residents on Ov...</td>\n",
       "      <td>2011</td>\n",
       "      <td>Fare payments by Irish residents abroad to Iri...</td>\n",
       "      <td>Euro Million</td>\n",
       "      <td>789</td>\n",
       "    </tr>\n",
       "    <tr>\n",
       "      <th>3</th>\n",
       "      <td>Estimated Expenditure by Irish Residents on Ov...</td>\n",
       "      <td>2012</td>\n",
       "      <td>Fare payments by Irish residents abroad to Iri...</td>\n",
       "      <td>Euro Million</td>\n",
       "      <td>821</td>\n",
       "    </tr>\n",
       "    <tr>\n",
       "      <th>4</th>\n",
       "      <td>Estimated Expenditure by Irish Residents on Ov...</td>\n",
       "      <td>2013</td>\n",
       "      <td>Fare payments by Irish residents abroad to Iri...</td>\n",
       "      <td>Euro Million</td>\n",
       "      <td>969</td>\n",
       "    </tr>\n",
       "  </tbody>\n",
       "</table>\n",
       "</div>"
      ],
      "text/plain": [
       "                                           Statistic  Year  \\\n",
       "0  Estimated Expenditure by Irish Residents on Ov...  2009   \n",
       "1  Estimated Expenditure by Irish Residents on Ov...  2010   \n",
       "2  Estimated Expenditure by Irish Residents on Ov...  2011   \n",
       "3  Estimated Expenditure by Irish Residents on Ov...  2012   \n",
       "4  Estimated Expenditure by Irish Residents on Ov...  2013   \n",
       "\n",
       "                                 Type of Expenditure          UNIT  VALUE  \n",
       "0  Fare payments by Irish residents abroad to Iri...  Euro Million    570  \n",
       "1  Fare payments by Irish residents abroad to Iri...  Euro Million    590  \n",
       "2  Fare payments by Irish residents abroad to Iri...  Euro Million    789  \n",
       "3  Fare payments by Irish residents abroad to Iri...  Euro Million    821  \n",
       "4  Fare payments by Irish residents abroad to Iri...  Euro Million    969  "
      ]
     },
     "execution_count": 67,
     "metadata": {},
     "output_type": "execute_result"
    }
   ],
   "source": [
    "datacuatro.head()"
   ]
  },
  {
   "cell_type": "code",
   "execution_count": 68,
   "id": "00f00483",
   "metadata": {},
   "outputs": [
    {
     "name": "stdout",
     "output_type": "stream",
     "text": [
      "<class 'pandas.core.frame.DataFrame'>\n",
      "RangeIndex: 11 entries, 0 to 10\n",
      "Data columns (total 5 columns):\n",
      " #   Column               Non-Null Count  Dtype \n",
      "---  ------               --------------  ----- \n",
      " 0   Statistic            11 non-null     object\n",
      " 1   Year                 11 non-null     int64 \n",
      " 2   Type of Expenditure  11 non-null     object\n",
      " 3   UNIT                 11 non-null     object\n",
      " 4   VALUE                11 non-null     int64 \n",
      "dtypes: int64(2), object(3)\n",
      "memory usage: 568.0+ bytes\n"
     ]
    }
   ],
   "source": [
    "datacuatro.info()"
   ]
  },
  {
   "cell_type": "code",
   "execution_count": 69,
   "id": "9d9c2274",
   "metadata": {},
   "outputs": [
    {
     "name": "stdout",
     "output_type": "stream",
     "text": [
      "number of duplicate rows: (0, 5)\n"
     ]
    }
   ],
   "source": [
    "duplicate_rows_datacuatro = datacuatro[datacuatro.duplicated()]\n",
    "print(\"number of duplicate rows:\", duplicate_rows_datacuatro.shape)"
   ]
  },
  {
   "cell_type": "markdown",
   "id": "b0f30ab1",
   "metadata": {},
   "source": [
    "No Duplicates in our third dataset"
   ]
  },
  {
   "cell_type": "code",
   "execution_count": 70,
   "id": "d4940bd1",
   "metadata": {},
   "outputs": [
    {
     "name": "stdout",
     "output_type": "stream",
     "text": [
      "Statistic              0\n",
      "Year                   0\n",
      "Type of Expenditure    0\n",
      "UNIT                   0\n",
      "VALUE                  0\n",
      "dtype: int64\n"
     ]
    }
   ],
   "source": [
    "print(datacuatro.isnull().sum())"
   ]
  },
  {
   "cell_type": "code",
   "execution_count": 71,
   "id": "f510276f",
   "metadata": {},
   "outputs": [
    {
     "data": {
      "text/plain": [
       "Statistic              11\n",
       "Year                   11\n",
       "Type of Expenditure    11\n",
       "UNIT                   11\n",
       "VALUE                  11\n",
       "dtype: int64"
      ]
     },
     "execution_count": 71,
     "metadata": {},
     "output_type": "execute_result"
    }
   ],
   "source": [
    "datacuatro = datacuatro.dropna()\n",
    "datacuatro.count()"
   ]
  },
  {
   "cell_type": "markdown",
   "id": "9ac1a3f7",
   "metadata": {},
   "source": [
    "No missing values in our dataset either."
   ]
  },
  {
   "cell_type": "code",
   "execution_count": 72,
   "id": "fd3e0ef7",
   "metadata": {},
   "outputs": [
    {
     "name": "stdout",
     "output_type": "stream",
     "text": [
      "['Estimated Expenditure by Irish Residents on Overseas Trips']\n"
     ]
    }
   ],
   "source": [
    "print(datacuatro['Statistic'].unique())"
   ]
  },
  {
   "cell_type": "code",
   "execution_count": 73,
   "id": "b656443c",
   "metadata": {},
   "outputs": [
    {
     "name": "stdout",
     "output_type": "stream",
     "text": [
      "['Fare payments by Irish residents abroad to Irish carriers']\n"
     ]
    }
   ],
   "source": [
    "print(datacuatro['Type of Expenditure'].unique())"
   ]
  },
  {
   "cell_type": "code",
   "execution_count": 74,
   "id": "56de87af",
   "metadata": {},
   "outputs": [
    {
     "name": "stdout",
     "output_type": "stream",
     "text": [
      "['Euro Million']\n"
     ]
    }
   ],
   "source": [
    "print(datacuatro['UNIT'].unique())"
   ]
  },
  {
   "cell_type": "code",
   "execution_count": 75,
   "id": "82f2bc14",
   "metadata": {},
   "outputs": [],
   "source": [
    "datacuatro = datacuatro.drop(['Statistic', 'Type of Expenditure', 'UNIT'], axis=1)"
   ]
  },
  {
   "cell_type": "code",
   "execution_count": 76,
   "id": "e9887745",
   "metadata": {},
   "outputs": [],
   "source": [
    "datacuatro.rename(columns={\"VALUE\":\"Fare Expenditure\"} ,inplace=True)"
   ]
  },
  {
   "cell_type": "code",
   "execution_count": 77,
   "id": "4ed7dbb3",
   "metadata": {
    "scrolled": true
   },
   "outputs": [
    {
     "data": {
      "text/html": [
       "<div>\n",
       "<style scoped>\n",
       "    .dataframe tbody tr th:only-of-type {\n",
       "        vertical-align: middle;\n",
       "    }\n",
       "\n",
       "    .dataframe tbody tr th {\n",
       "        vertical-align: top;\n",
       "    }\n",
       "\n",
       "    .dataframe thead th {\n",
       "        text-align: right;\n",
       "    }\n",
       "</style>\n",
       "<table border=\"1\" class=\"dataframe\">\n",
       "  <thead>\n",
       "    <tr style=\"text-align: right;\">\n",
       "      <th></th>\n",
       "      <th>Year</th>\n",
       "      <th>Fare Expenditure</th>\n",
       "    </tr>\n",
       "  </thead>\n",
       "  <tbody>\n",
       "    <tr>\n",
       "      <th>0</th>\n",
       "      <td>2009</td>\n",
       "      <td>570</td>\n",
       "    </tr>\n",
       "    <tr>\n",
       "      <th>1</th>\n",
       "      <td>2010</td>\n",
       "      <td>590</td>\n",
       "    </tr>\n",
       "    <tr>\n",
       "      <th>2</th>\n",
       "      <td>2011</td>\n",
       "      <td>789</td>\n",
       "    </tr>\n",
       "    <tr>\n",
       "      <th>3</th>\n",
       "      <td>2012</td>\n",
       "      <td>821</td>\n",
       "    </tr>\n",
       "    <tr>\n",
       "      <th>4</th>\n",
       "      <td>2013</td>\n",
       "      <td>969</td>\n",
       "    </tr>\n",
       "  </tbody>\n",
       "</table>\n",
       "</div>"
      ],
      "text/plain": [
       "   Year  Fare Expenditure\n",
       "0  2009               570\n",
       "1  2010               590\n",
       "2  2011               789\n",
       "3  2012               821\n",
       "4  2013               969"
      ]
     },
     "execution_count": 77,
     "metadata": {},
     "output_type": "execute_result"
    }
   ],
   "source": [
    "datacuatro.head()"
   ]
  },
  {
   "cell_type": "code",
   "execution_count": 78,
   "id": "6f456198",
   "metadata": {},
   "outputs": [
    {
     "name": "stdout",
     "output_type": "stream",
     "text": [
      "<class 'pandas.core.frame.DataFrame'>\n",
      "Int64Index: 11 entries, 0 to 10\n",
      "Data columns (total 2 columns):\n",
      " #   Column            Non-Null Count  Dtype\n",
      "---  ------            --------------  -----\n",
      " 0   Year              11 non-null     int64\n",
      " 1   Fare Expenditure  11 non-null     int64\n",
      "dtypes: int64(2)\n",
      "memory usage: 264.0 bytes\n"
     ]
    }
   ],
   "source": [
    "datacuatro.info()"
   ]
  },
  {
   "cell_type": "code",
   "execution_count": 79,
   "id": "d596f66f",
   "metadata": {},
   "outputs": [],
   "source": [
    "datacuatro = datacuatro.nlargest(n=100, columns=['Fare Expenditure'])"
   ]
  },
  {
   "cell_type": "code",
   "execution_count": 80,
   "id": "872f85ba",
   "metadata": {
    "scrolled": true
   },
   "outputs": [
    {
     "data": {
      "text/html": [
       "<div>\n",
       "<style scoped>\n",
       "    .dataframe tbody tr th:only-of-type {\n",
       "        vertical-align: middle;\n",
       "    }\n",
       "\n",
       "    .dataframe tbody tr th {\n",
       "        vertical-align: top;\n",
       "    }\n",
       "\n",
       "    .dataframe thead th {\n",
       "        text-align: right;\n",
       "    }\n",
       "</style>\n",
       "<table border=\"1\" class=\"dataframe\">\n",
       "  <thead>\n",
       "    <tr style=\"text-align: right;\">\n",
       "      <th></th>\n",
       "      <th>Year</th>\n",
       "      <th>Fare Expenditure</th>\n",
       "    </tr>\n",
       "  </thead>\n",
       "  <tbody>\n",
       "    <tr>\n",
       "      <th>10</th>\n",
       "      <td>2019</td>\n",
       "      <td>1435</td>\n",
       "    </tr>\n",
       "    <tr>\n",
       "      <th>9</th>\n",
       "      <td>2018</td>\n",
       "      <td>1423</td>\n",
       "    </tr>\n",
       "    <tr>\n",
       "      <th>8</th>\n",
       "      <td>2017</td>\n",
       "      <td>1377</td>\n",
       "    </tr>\n",
       "    <tr>\n",
       "      <th>7</th>\n",
       "      <td>2016</td>\n",
       "      <td>1247</td>\n",
       "    </tr>\n",
       "    <tr>\n",
       "      <th>6</th>\n",
       "      <td>2015</td>\n",
       "      <td>1148</td>\n",
       "    </tr>\n",
       "  </tbody>\n",
       "</table>\n",
       "</div>"
      ],
      "text/plain": [
       "    Year  Fare Expenditure\n",
       "10  2019              1435\n",
       "9   2018              1423\n",
       "8   2017              1377\n",
       "7   2016              1247\n",
       "6   2015              1148"
      ]
     },
     "execution_count": 80,
     "metadata": {},
     "output_type": "execute_result"
    }
   ],
   "source": [
    "datacuatro.head()"
   ]
  },
  {
   "cell_type": "code",
   "execution_count": 81,
   "id": "46ba858b",
   "metadata": {},
   "outputs": [
    {
     "data": {
      "text/plain": [
       "(11, 2)"
      ]
     },
     "execution_count": 81,
     "metadata": {},
     "output_type": "execute_result"
    }
   ],
   "source": [
    "datacuatro.shape"
   ]
  },
  {
   "cell_type": "code",
   "execution_count": 82,
   "id": "3a00f27b",
   "metadata": {},
   "outputs": [
    {
     "data": {
      "image/png": "[encoded data removed]",
      "text/plain": [
       "<Figure size 1152x432 with 2 Axes>"
      ]
     },
     "metadata": {},
     "output_type": "display_data"
    }
   ],
   "source": [
    "plt.figure(figsize=(16, 6))\n",
    "heatmap = sns.heatmap(datacuatro.corr(), vmin=-1, vmax=1, annot=True)\n",
    "heatmap.set_title('Correlation year - expenditure', fontdict={'fontsize':20}, pad=12);"
   ]
  },
  {
   "cell_type": "markdown",
   "id": "5d2f2172",
   "metadata": {},
   "source": [
    "We can see there is 0.9 out of 1 in correlation this data has a pattern so we will choose a regressor to predict our continuous variable and supervised learning method because our data is labeled"
   ]
  },
  {
   "cell_type": "markdown",
   "id": "c0f7d883",
   "metadata": {},
   "source": [
    "##### Visualising the relation in a clearer manner by creating a plot:"
   ]
  },
  {
   "cell_type": "code",
   "execution_count": 83,
   "id": "4dd94493",
   "metadata": {
    "scrolled": true
   },
   "outputs": [
    {
     "data": {
      "text/plain": [
       "<seaborn.axisgrid.PairGrid at 0x23166bc8c70>"
      ]
     },
     "execution_count": 83,
     "metadata": {},
     "output_type": "execute_result"
    },
    {
     "data": {
      "image/png": "[encoded data removed]",
      "text/plain": [
       "<Figure size 360x360 with 6 Axes>"
      ]
     },
     "metadata": {},
     "output_type": "display_data"
    }
   ],
   "source": [
    "sns.pairplot(datacuatro)"
   ]
  },
  {
   "cell_type": "markdown",
   "id": "4fe7ae37",
   "metadata": {},
   "source": [
    "I will use a SVM Rregressor algorithm again and then visualise our results:"
   ]
  },
  {
   "cell_type": "code",
   "execution_count": 84,
   "id": "72534421",
   "metadata": {},
   "outputs": [
    {
     "name": "stdout",
     "output_type": "stream",
     "text": [
      "[[2019]\n",
      " [2018]\n",
      " [2017]\n",
      " [2016]\n",
      " [2015]\n",
      " [2014]\n",
      " [2013]\n",
      " [2012]\n",
      " [2011]\n",
      " [2010]\n",
      " [2009]]\n",
      "[1435 1423 1377 1247 1148 1074  969  821  789  590  570]\n"
     ]
    }
   ],
   "source": [
    "X = datacuatro.iloc[:, [0]].values\n",
    "y = datacuatro.iloc[:, -1].values\n",
    "print(X)\n",
    "print(y)"
   ]
  },
  {
   "cell_type": "code",
   "execution_count": 85,
   "id": "d0558b45",
   "metadata": {},
   "outputs": [
    {
     "name": "stdout",
     "output_type": "stream",
     "text": [
      "[[1435]\n",
      " [1423]\n",
      " [1377]\n",
      " [1247]\n",
      " [1148]\n",
      " [1074]\n",
      " [ 969]\n",
      " [ 821]\n",
      " [ 789]\n",
      " [ 590]\n",
      " [ 570]]\n"
     ]
    }
   ],
   "source": [
    "# we need to reshape 'y' bc is not a list but an array\n",
    "\n",
    "y = y.reshape(len(y),1)\n",
    "print(y)"
   ]
  },
  {
   "cell_type": "code",
   "execution_count": 86,
   "id": "621b6c05",
   "metadata": {},
   "outputs": [],
   "source": [
    "from sklearn.preprocessing import StandardScaler \n",
    "sc_X = StandardScaler()\n",
    "sc_y = StandardScaler()\n",
    "X = sc_X.fit_transform(X)\n",
    "y = sc_y.fit_transform(y)"
   ]
  },
  {
   "cell_type": "code",
   "execution_count": 87,
   "id": "83454896",
   "metadata": {},
   "outputs": [
    {
     "name": "stdout",
     "output_type": "stream",
     "text": [
      "[[ 1.58113883]\n",
      " [ 1.26491106]\n",
      " [ 0.9486833 ]\n",
      " [ 0.63245553]\n",
      " [ 0.31622777]\n",
      " [ 0.        ]\n",
      " [-0.31622777]\n",
      " [-0.63245553]\n",
      " [-0.9486833 ]\n",
      " [-1.26491106]\n",
      " [-1.58113883]]\n"
     ]
    }
   ],
   "source": [
    "print(X)\n"
   ]
  },
  {
   "cell_type": "code",
   "execution_count": 88,
   "id": "c321f646",
   "metadata": {},
   "outputs": [
    {
     "name": "stdout",
     "output_type": "stream",
     "text": [
      "[[ 1.30179272]\n",
      " [ 1.26221726]\n",
      " [ 1.11051134]\n",
      " [ 0.68177721]\n",
      " [ 0.35527968]\n",
      " [ 0.11123102]\n",
      " [-0.23505424]\n",
      " [-0.72315155]\n",
      " [-0.82868611]\n",
      " [-1.48497912]\n",
      " [-1.55093822]]\n"
     ]
    }
   ],
   "source": [
    "print(y)"
   ]
  },
  {
   "cell_type": "code",
   "execution_count": 89,
   "id": "d7d7803b",
   "metadata": {},
   "outputs": [
    {
     "name": "stderr",
     "output_type": "stream",
     "text": [
      "C:\\ProgramData\\Anaconda3\\lib\\site-packages\\sklearn\\utils\\validation.py:63: DataConversionWarning: A column-vector y was passed when a 1d array was expected. Please change the shape of y to (n_samples, ), for example using ravel().\n",
      "  return f(*args, **kwargs)\n"
     ]
    },
    {
     "data": {
      "text/plain": [
       "SVR()"
      ]
     },
     "execution_count": 89,
     "metadata": {},
     "output_type": "execute_result"
    }
   ],
   "source": [
    "from sklearn.svm import SVR\n",
    "regressor = SVR(kernel = 'rbf')\n",
    "regressor.fit(X, y)"
   ]
  },
  {
   "cell_type": "code",
   "execution_count": 90,
   "id": "1c1d3184",
   "metadata": {},
   "outputs": [
    {
     "data": {
      "text/plain": [
       "array([1028.91515954])"
      ]
     },
     "execution_count": 90,
     "metadata": {},
     "output_type": "execute_result"
    }
   ],
   "source": [
    "# Predicting the expenditure for 2025:\n",
    "\n",
    "sc_y.inverse_transform(regressor.predict(sc_X.transform([[2025]])))"
   ]
  },
  {
   "cell_type": "code",
   "execution_count": 91,
   "id": "51f78b3a",
   "metadata": {},
   "outputs": [
    {
     "data": {
      "text/plain": [
       "Text(0, 0.5, 'Total Fare Expenditure')"
      ]
     },
     "execution_count": 91,
     "metadata": {},
     "output_type": "execute_result"
    },
    {
     "data": {
      "image/png": "[encoded data removed]",
      "text/plain": [
       "<Figure size 432x288 with 1 Axes>"
      ]
     },
     "metadata": {},
     "output_type": "display_data"
    }
   ],
   "source": [
    "X_grid = np.arange(min(sc_X.inverse_transform(X)), max(sc_X.inverse_transform(X)), 0.1)\n",
    "X_grid = X_grid.reshape((len(X_grid), 1))\n",
    "plt.scatter(sc_X.inverse_transform(X), sc_y.inverse_transform(y), color = 'red')\n",
    "plt.plot(X_grid, sc_y.inverse_transform(regressor.predict(sc_X.transform(X_grid))), color = 'blue')\n",
    "plt.title('Truth or Not (SVR)')\n",
    "plt.xlabel('Year')\n",
    "plt.ylabel('Total Fare Expenditure')"
   ]
  },
  {
   "cell_type": "markdown",
   "id": "9d8e231f",
   "metadata": {},
   "source": [
    "Based in the results obtained by 2025 the Fare Expecditure will likely be around 1028 euromillion\n",
    "\n",
    "Per graph we can conclude that the trend is solid and positive in terms of travelling money spent in fare so we can conclude based on this analysis that investing on expansion would be a good idea."
   ]
  },
  {
   "cell_type": "markdown",
   "id": "b6e284db",
   "metadata": {},
   "source": [
    "I will include a comprehensive analysis of the step by step performed in our datasets, the reasoning for the conclusions and business recommendations."
   ]
  }
 ],
 "metadata": {
  "kernelspec": {
   "display_name": "Python 3 (ipykernel)",
   "language": "python",
   "name": "python3"
  },
  "language_info": {
   "codemirror_mode": {
    "name": "ipython",
    "version": 3
   },
   "file_extension": ".py",
   "mimetype": "text/x-python",
   "name": "python",
   "nbconvert_exporter": "python",
   "pygments_lexer": "ipython3",
   "version": "3.9.7"
  }
 },
 "nbformat": 4,
 "nbformat_minor": 5
}
